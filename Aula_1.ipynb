{
 "cells": [
  {
   "cell_type": "markdown",
   "metadata": {
    "slideshow": {
     "slide_type": "slide"
    }
   },
   "source": [
    "# Sistemas de Apoio à Decisão\n",
    "\n",
    "---\n",
    "\n",
    "## Aula 1 - Apresentação e  Regras da Unidade Curricular \n",
    "\n",
    "---\n",
    "\n",
    "#### 1º Semestre, 2018/2019\n",
    "\n",
    "\n",
    "##### Nuno Brás\n",
    "\n",
    "##### Outubro de 2018"
   ]
  },
  {
   "cell_type": "markdown",
   "metadata": {
    "collapsed": true,
    "slideshow": {
     "slide_type": "slide"
    }
   },
   "source": [
    "\n",
    "# Livros:\n",
    "\n",
    "\n",
    "- *Introduction to Data Mining* by Pang-Ning Tan, Michael Steinbach, and Vipin Kumar, 2006\n",
    "\n",
    "(**versão portuguesa-brasileira**, *Introdução à Mineração de Dados* de Pang-Ning Tan, Michael Steinbach, and Vipin Kumar, 2006)\n",
    "\n",
    "<img src=\"https://docs.google.com/uc?id=16WRD5ENmQfgrT9w4PgWO65wcnMpN0CJ_\" style=\"width:30%; margin:auto\"/>\n",
    "\n",
    "- *Python for Data Analysis, Wes McKinney*, O'Reilly, 2017 http://www3.canisius.edu/~yany/python/Python4DataAnalysis.pdf\n"
   ]
  },
  {
   "cell_type": "markdown",
   "metadata": {
    "slideshow": {
     "slide_type": "slide"
    }
   },
   "source": [
    "\n",
    "\n",
    "# Outra Documentação \n",
    "\n",
    "- Slides Teóricos!\n",
    "- Exercícios Resolvidos em Notebooks Python;\n",
    "- Outras Ajudas dadas ao longo do semestre;\n",
    "- Moodle\n",
    "\n",
    "# Portátil\n",
    "\n",
    "Não é obrigatório, mas é fortemente aconselhado;\n",
    "\n"
   ]
  },
  {
   "cell_type": "markdown",
   "metadata": {
    "slideshow": {
     "slide_type": "slide"
    }
   },
   "source": [
    "# Dois Grandes Blocos da Nossa Disciplina\n",
    "---\n",
    "\n",
    "#### Ferrramentas de Datawarehousing (Engineering point-of-view):\n",
    "\n",
    "Como podemos guardar os dados que precisamos. Vamos estudar:\n",
    "\n",
    "- Tecnologias de Datawarehousing; \n",
    "- Tendências\n",
    "\n",
    "#### Ferramentas de Data Mining (DataScientist Point of View):\n",
    "\n",
    "Vamos estudar ferramentas para determinar padrões em dados, descreve-los e apresentar conclusões usando módulos específicos de Data Mining como:\n",
    "\n",
    "- iPython Notebooks\n",
    "- Pandas\n",
    "- Sklearn (Sky Kit Learn)\n",
    "\n",
    "(**Python**)\n"
   ]
  },
  {
   "cell_type": "markdown",
   "metadata": {
    "slideshow": {
     "slide_type": "slide"
    }
   },
   "source": [
    "Vamos usar (a instalar até à proxima aula!)\n",
    "\n",
    "Anaconda Versão: anaconda3-4.4.0 \n",
    "\n",
    "Colaboratory: https://colab.research.google.com/notebooks/welcome.ipynb\n",
    "\n"
   ]
  },
  {
   "cell_type": "markdown",
   "metadata": {
    "slideshow": {
     "slide_type": "slide"
    }
   },
   "source": [
    "# Morfologia dos Capítulos\n",
    "\n",
    "### Todos os capítulos são compostos por:\n",
    "\n",
    "- Exemplo com Intuição;\n",
    "- Teoria Subjacente;\n",
    "- Exemplo Prático em Python;\n",
    "- Exercício de Aula/TPC;"
   ]
  },
  {
   "cell_type": "markdown",
   "metadata": {
    "slideshow": {
     "slide_type": "slide"
    }
   },
   "source": [
    "## Programa da Disciplina\n",
    "\n",
    "\n",
    "---\n",
    "\n",
    "***(Aula 1)***\n",
    "\n",
    "- **Introdução**\n",
    "\n",
    "---\n",
    "\n",
    "\n",
    "***(Aula 2)***\n",
    "\n",
    "- **Introdução aos Sistemas de Apoio à Decisão** \n",
    "\n",
    "---\n",
    "\n",
    "***(Aula 3)***\n",
    "\n",
    "- **Tarefas do Datamining**\n",
    "    + Classificação\n",
    "    + Regressão\n",
    "    + Clustering\n",
    "    + Association Rules\n",
    "    + ***[TPC 0]***    \n",
    "\n",
    "---\n",
    "\n",
    "### DATA MINING\n",
    "\n",
    "***(Aula 4)***\n",
    "\n",
    "- **Introdução ao Python para Data Scientists**\n",
    "    + Basics of Python for Data Analysis\n",
    "    + Python libraries and data structures\n",
    "    + Exploratory analysis in Python using Pandas\n",
    "    \n",
    "---\n",
    "    \n",
    "- **Introdução ao Python: Exercícios** \n",
    "    + python\n",
    "    + pandas\n",
    "    + ***[1º TPC]***\n",
    "\n",
    "---\n",
    "\n",
    "***(Aula 5)***    \n",
    "\n",
    "- **Data & Data Preprocessing**\n",
    "    + Data Sets\n",
    "    + Attributos/Features    \n",
    "    + Data Frames\n",
    "    + Aggregação\n",
    "    + Sampling\n",
    "    + Reducão de Dimensionalidade \n",
    "    + Features Subset Selection \n",
    "    + Feature Creation \n",
    "    + Discretização and Binarização \n",
    "    + Transformação de Features\n",
    "    + Encoding de Features Discretas\n",
    "    + Separação do DataSet \n",
    "        + Training Set e Test Set \n",
    "        + Cross Validation\n",
    "---\n",
    "\n",
    "***(Aula 6)***    \n",
    "\n",
    "- **Exercícios de Preprocessamento sobre um DataSet**\n",
    "    + sklearn preprocessing module\n",
    "  \n",
    "---\n",
    "\n",
    "\n",
    "***(Aula 7)***     \n",
    "\n",
    "- **Regression Models**\n",
    "    + Simple Definitions\n",
    "    + Linear/Non Linear Models\n",
    "    \n",
    "- **Exercícios: Métodos de Regressão**\n",
    "    + ***[2º TPC]***  \n",
    "---\n",
    "\n",
    "\n",
    "***(Aula 8)***    \n",
    "\n",
    "- **Classification Models**\n",
    "    + Logistic Regression Binary Classifier\n",
    "    + Error and Performance Measurement    \n",
    "        \n",
    "        \n",
    "***(Aula 9)***     \n",
    "\n",
    "- **Classification Models**        \n",
    "    + Decision Tree Classifiers\n",
    "    + Random Forrests Classifiers   \n",
    "\n",
    "\n",
    "- **Exercícios: Métodos de Classificação**\n",
    "    + ***[3º TPC]***   \n",
    "---\n",
    "\n",
    "\n",
    "***(Aula 10)***     \n",
    "\n",
    "- **Classification Models**\n",
    "    + Naïve Bayes Classifier\n",
    "    + Bayesian Belief Networks\n",
    "       \n",
    "---\n",
    "\n",
    "***(Aula 11)*** \n",
    "\n",
    "- **Classification Models**\n",
    "    + Boosting Methods\n",
    "    + Kernel methods \n",
    "    + KNN\n",
    "---\n",
    "\n",
    "\n",
    "***(Aula 12)***     \n",
    "\n",
    "- **Classification Models**\n",
    "    + Binary Classification parameters: ROC, confusion matrix, etc. \n",
    "    + Model Performance Evalutation and Selection\n",
    "\n",
    "- **Exercícios: Métodos de Classificação 2**\n",
    "    + ***[4º TPC]***\n",
    "\n",
    "---\n",
    "\n",
    "\n",
    "***(Aula 13)***    \n",
    "\n",
    "\n",
    "- **Association Analysis**\n",
    "    + Definições e aplicações\n",
    "    + Exemplos \n",
    "\n",
    "---\n",
    "\n",
    "\n",
    "***(Aula 14)*** \n",
    "\n",
    "- **Association Analysis**\n",
    "    + Definições e aplicações\n",
    "    + Exemplos \n",
    "\n",
    "---\n",
    "\n",
    "\n",
    "### DATAWAREHOUSING\n",
    "\n",
    "***(Aula 15)*** \n",
    "\n",
    "- **Sistemas Tradicionais de Datawarehousing**\n",
    "    + OLAP Systems\n",
    "    + Feeds (CRM, etc.)\n",
    "\n",
    "---\n",
    "\n",
    "***(Aula 16)*** \n",
    "\n",
    "- **Sistemas Tradicionais de Datawarehousing**\n",
    "    + OLAP Systems    \n",
    "\n",
    "---\n",
    "\n",
    "\n",
    "\n",
    "***(Aula 17)*** \n",
    "- **Feeds para Sistemas de Apoio à Decisão**\n",
    "    + CRM, ERPs, CMS, etc.\n",
    "    + Web Scrapping\n",
    "    + Analytics\n",
    "\n",
    "---\n",
    "\n",
    "***(Aula 18)***\n",
    "\n",
    "- **Revisões**\n",
    "\n",
    "---\n",
    "\n",
    "\n",
    "\n",
    "\n",
    "***(Aula 19)***    \n",
    "\n",
    "- **Teste**\n",
    "\n",
    "---\n",
    "\n",
    "### FINAL WORK \n",
    "\n",
    "***(Aula 20)***    \n",
    "\n",
    "- **Exercícios: Métodos de Classificação 3ª parte**\n",
    "\n",
    "\n",
    "***(Aula 21)***    \n",
    "\n",
    "- **Exercícios: Performance Evaluation and Selection**\n",
    "    + ***[5º TPC]***\n",
    "\n",
    "---\n",
    "\n",
    "***(Aula 22)*** \n",
    "\n",
    "- **Exercícios: Association Analysis**\n",
    "    + ***[6º TPC]***\n",
    "\n",
    "---\n",
    "\n",
    "\n",
    "***(Aula 23 ao final)*** \n",
    "\n",
    "- **Apoio ao Trabalho Final**\n",
    "\n",
    "---\n"
   ]
  },
  {
   "cell_type": "markdown",
   "metadata": {
    "slideshow": {
     "slide_type": "slide"
    }
   },
   "source": [
    "## Regras de Avaliação\n",
    "\n",
    "---\n",
    "\n",
    "# Avaliação Contínua: \n",
    "\n",
    "- Teste (40%)\n",
    "- TPCs (10%) \n",
    "- Trabalho Final Acompanhado nas Aulas (50%)   \n",
    "\n",
    "> **Atenção:** Existe nota Mínima de 10 valores no Teste e no trabalho, somente na média final. Caso o trabalho não seja acompanhado na aula terão que ir a exame. A nota do teste pode ser 'repescada' para época de exame.\n",
    "### Modo Exame Final\n",
    "\n",
    "- Exame (50%)\n",
    "- Trabalho final (50%)\n",
    "> **Neste Caso** Existe uma apresentação (30 min) com perguntas sobre o trabalho entregue\n",
    "\n",
    "\n",
    "**Boa sorte a todos!**"
   ]
  },
  {
   "cell_type": "markdown",
   "metadata": {
    "slideshow": {
     "slide_type": "slide"
    }
   },
   "source": [
    "\n",
    "\n",
    "# Avaliação\n",
    "\n",
    "### 1) **Teste**\n",
    "\n",
    "\n",
    "# Dia 3/12/2018 (19ª Aula)\n",
    "\n",
    "\n",
    "### 2) **TPC's - Aproximadamente todos os 15 dias - Entrega na semana seguinte**\n",
    "\n",
    "Os TPC's são lançados ainda durante a aula, na qual podem começar a executar o trabalho, e colocados no moodle. \n",
    "\n",
    "**A entrega dos trabalhos de casa é feita passada 1 semana; **\n",
    "\n",
    "** Entrega após duas semanas são descontados 25% à nota do TPC; Entregas após a segunda semana terão que ir a exame.**\n",
    "\n",
    "### 3) **Trabalho Final** (NOTEBOOK PYTHON)\n",
    "\n",
    "Tema do trabalho a definir\n",
    "\n",
    "\n"
   ]
  },
  {
   "cell_type": "markdown",
   "metadata": {
    "slideshow": {
     "slide_type": "slide"
    }
   },
   "source": [
    "# O que é um Data Scientist?\n",
    "---\n",
    "\n",
    "A person employed to analyse and interpret complex digital data, such as the usage statistics of a website, especially in order to assist a business in its decision-making.\n",
    "\n",
    "##### \"IBM Predicts Demand For Data Scientists Will raise 28% By 2020\"\n",
    "\n",
    "##### \"Glassdoor recently revealed its report highlighting the 50 best jobs in America, and unsurprisingly, data scientist claimed the top spot for the second year in a row .... (2017)\"\n"
   ]
  },
  {
   "cell_type": "markdown",
   "metadata": {
    "slideshow": {
     "slide_type": "slide"
    }
   },
   "source": [
    "##### \"Wired Magazine\"\n",
    "\n",
    "<img src=\"https://docs.google.com/uc?id=1PCr--zcXNM9U0otwg_vf0sPiqi_IUroS\" alt=\"Drawing\" style=\"width: 90%;\"/>\n",
    "\n"
   ]
  },
  {
   "cell_type": "markdown",
   "metadata": {
    "slideshow": {
     "slide_type": "slide"
    }
   },
   "source": [
    "# O que leva o Data Mining a ser tão importante hoje em dia\n",
    "\n",
    "---\n",
    "\n",
    "\n",
    "#### <div style=\"text-align:center\"> A quantidade de dados guardados no mundo explodiu</div>\n",
    "\n",
    "\n",
    "<img src=\"https://docs.google.com/uc?id=1Bm5WHyEUHzfYaSV5PzkgHT8WiSyj-Z8t\" style=\"width:60%; margin:auto\"/>"
   ]
  },
  {
   "cell_type": "markdown",
   "metadata": {
    "slideshow": {
     "slide_type": "slide"
    }
   },
   "source": [
    "# O que leva o Data Mining a ser tão importante hoje em dia\n",
    "\n",
    "---\n",
    "\n",
    "#### <div style=\"text-align:center\"> A Riquesa dos dados aumentou significativamente</div>\n",
    "\n",
    "- Browsing information no E-Commerce\n",
    "- Sensores de todo o tipo na Internet of Things (IoT) \n",
    "\n",
    "<div style=\"text-align:center\"> A diferença entre a quantidade de dados e a quantidade de analistas para os estudar aumentou brutalmente. O custo do trabalho humano faz com que: </div>\n",
    "\n",
    "- A informação escondida não seja trabalhada\n",
    "- Grande parte dos dados nunca seja analisada"
   ]
  }
 ],
 "metadata": {
  "celltoolbar": "Slideshow",
  "kernelspec": {
   "display_name": "SADenv",
   "language": "python",
   "name": "sadenv"
  },
  "language_info": {
   "codemirror_mode": {
    "name": "ipython",
    "version": 3
   },
   "file_extension": ".py",
   "mimetype": "text/x-python",
   "name": "python",
   "nbconvert_exporter": "python",
   "pygments_lexer": "ipython3",
   "version": "3.6.0"
  }
 },
 "nbformat": 4,
 "nbformat_minor": 2
}
