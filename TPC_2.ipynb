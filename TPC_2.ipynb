{
 "cells": [
  {
   "cell_type": "markdown",
   "metadata": {},
   "source": [
    "# SAD - TPC 2\n",
    "\n",
    "### Dominar a linguagem Python 2\n",
    "\n",
    "----\n",
    "\n",
    "\n",
    "Uma cada carta é identificada pelo seu numero\n",
    "\n",
    "- 1,2,3,4,5,6,7,8,9,10,D,V,R (sendo os ultimos dama, valete e rei)\n",
    "\n",
    "e pelo seu naipe \n",
    "\n",
    "- copas(C); paus (P); Ouros (O); Espadas (E)\n",
    "\n",
    "Um exemplo de uma carta seria **E10** ou **PR**\n",
    "\n",
    "Considere um conjunto de N cartas definido numa lista A. \n",
    "\n",
    "Por exemplo, \n",
    "\n",
    "A = [P10, E9, C1]\n",
    "\n",
    "ou \n",
    "\n",
    "A = [\"1P\", \"1C\", \"1O\", \"2P\", \"2C\", \"2O\", \"2E\", \"3P\", \"3C\", \"3O\", \n",
    "     \"3E\", \"4P\", \"4C\", \"4O\", \"4E\", \"5P\", \"5C\", \"5O\", \"5E\", \"6P\", \"6C\", \"6O\", \n",
    "     \"6E\", \"7P\", \"7C\", \"7O\", \"7E\", \"8P\", \"8C\", \"8O\", \"8E\", \"9P\", \"9C\", \"9O\", \"9E\", \"DP\", \n",
    "     \"DC\", \"DO\", \"DE\", \"JP\", \"JC\", \"JO\", \"JE\", \"VP\", \"VC\", \"VO\", \"VE\", \"RP\", \"RC\", \"RO\", \"RE\", \n",
    "     \"1P\", \"1C\", \"1O\", \"1E\", \"2P\", \"2C\", \"2O\", \"2E\", \"3P\", \"3C\", \"3O\", \"3E\", \n",
    "     \"4P\", \"4C\", \"4O\", \"4E\", \"5P\", \"5C\", \"5O\", \"5E\", \"6P\", \"6C\", \"6O\", \"6E\", \"7P\", \"7C\", \n",
    "     \"7O\", \"7E\", \"8P\", \"8C\", \"8O\", \"8E\", \"9P\", \"9C\", \"9O\", \"9E\", \"DP\", \"DC\", \"DO\", \"DE\", \n",
    "     \"JP\", \"JC\", \"JO\", \"JE\", \"VP\", \"VC\", \"VO\", \"VE\", \"RP\", \"RC\", \"RO\", \"RE\", \"1P\", \"1C\", \n",
    "     \"1O\", \"1E\", \"2P\", \"2C\", \"2O\", \"2E\", \"3P\", \"3C\", \"3O\", \"3E\", \"4P\", \"4C\", \"4O\", \"4E\", \n",
    "     \"5P\", \"5C\", \"5O\", \"5E\", \"6P\", \"6C\", \"6O\", \"6E\", \"7P\", \"7C\", \"7O\", \"7E\", \"8P\", \"8C\", \n",
    "     \"8O\", \"8E\", \"9P\", \"9C\", \"9O\", \"9E\", \"DP\", \"DC\", \"DO\", \"DE\", \"JP\", \"JC\", \"JO\", \"JE\", \n",
    "     \"VP\", \"VC\", \"VO\", \"VE\", \"RP\", \"RC\", \"RO\", \"RE\"]\n",
    "\n",
    "\n",
    "ou \n",
    "\n",
    "\n",
    "\n",
    "\n",
    "Crie uma função que retorne o número de baralhos completos (com todas as cartas) existentes nessa lista."
   ]
  },
  {
   "cell_type": "code",
   "execution_count": 26,
   "metadata": {},
   "outputs": [],
   "source": [
    "A = [\"1P\", \"1C\", \"1O\", \"2P\", \"2C\", \"2O\", \"2E\", \"3P\", \"3C\", \"3O\", \n",
    "     \"3E\", \"4P\", \"4C\", \"4O\", \"4E\", \"5P\", \"5C\", \"5O\", \"5E\", \"6P\", \"6C\", \"6O\", \n",
    "     \"6E\", \"7P\", \"7C\", \"7O\", \"7E\", \"8P\", \"8C\", \"8O\", \"8E\", \"9P\", \"9C\", \"9O\", \"9E\", \"DP\", \n",
    "     \"DC\", \"DO\", \"DE\", \"JP\", \"JC\", \"JO\", \"JE\", \"VP\", \"VC\", \"VO\", \"VE\", \"RP\", \"RC\", \"RO\", \"RE\", \n",
    "     \"1P\", \"1C\", \"1O\", \"1E\", \"2P\", \"2C\", \"2O\", \"2E\", \"3P\", \"3C\", \"3O\", \"3E\", \n",
    "     \"4P\", \"4C\", \"4O\", \"4E\", \"5P\", \"5C\", \"5O\", \"5E\", \"6P\", \"6C\", \"6O\", \"6E\", \"7P\", \"7C\", \n",
    "     \"7O\", \"7E\", \"8P\", \"8C\", \"8O\", \"8E\", \"9P\", \"9C\", \"9O\", \"9E\", \"DP\", \"DC\", \"DO\", \"DE\", \n",
    "     \"JP\", \"JC\", \"JO\", \"JE\", \"VP\", \"VC\", \"VO\", \"VE\", \"RP\", \"RC\", \"RO\", \"RE\", \"1P\", \"1C\", \n",
    "     \"1O\", \"1E\", \"2P\", \"2C\", \"2O\", \"2E\", \"3P\", \"3C\", \"3O\", \"3E\", \"4P\", \"4C\", \"4O\", \"4E\", \n",
    "     \"5P\", \"5C\", \"5O\", \"5E\", \"6P\", \"6C\", \"6O\", \"6E\", \"7P\", \"7C\", \"7O\", \"7E\", \"8P\", \"8C\", \n",
    "     \"8O\", \"8E\", \"9P\", \"9C\", \"9O\", \"9E\", \"DP\", \"DC\", \"DO\", \"DE\", \"JP\", \"JC\", \"JO\", \"JE\", \n",
    "     \"VP\", \"VC\", \"VO\", \"VE\", \"RP\", \"RC\", \"RO\", \"RE\"]\n"
   ]
  }
 ],
 "metadata": {
  "kernelspec": {
   "display_name": "Python 3",
   "language": "python",
   "name": "python3"
  },
  "language_info": {
   "codemirror_mode": {
    "name": "ipython",
    "version": 3
   },
   "file_extension": ".py",
   "mimetype": "text/x-python",
   "name": "python",
   "nbconvert_exporter": "python",
   "pygments_lexer": "ipython3",
   "version": "3.6.0"
  }
 },
 "nbformat": 4,
 "nbformat_minor": 2
}
