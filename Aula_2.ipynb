{
 "cells": [
  {
   "cell_type": "markdown",
   "metadata": {
    "slideshow": {
     "slide_type": "slide"
    }
   },
   "source": [
    "\n",
    "# Aula 2 - Introdução aos \n",
    "# Sistemas de Apoio à Decisão "
   ]
  },
  {
   "cell_type": "markdown",
   "metadata": {
    "slideshow": {
     "slide_type": "slide"
    }
   },
   "source": [
    "# Definições e contexto\n",
    "\n",
    "---\n",
    "\n",
    "### O que são Sistemas de Apoio à decisão?\n",
    "---   \n",
    "<font style=\"color:forestgreen\">\n",
    "“Um sistema de apoio à decisão é um sistema computacional ao nível da gestão de uma organização, que combina dados, ferramentas analíticas e modelos para apoiar a tomada de decisões” [Laudon 2000]\n",
    "</font>\n",
    "\n",
    "É constituído por ferramentas originárias da inteligência artificial/*machine Learning* que nos permitem retirar informação útil de sistemas de informação com grandes quantidades de dados para tomar decisões estratégicas e/ou operacionais. A este processo, de uso destas ferramentas sobre dados chama-se de datamining;\n",
    "\n",
    "\n",
    "É constituído por\n",
    "\n",
    "<img src=\"https://raw.githubusercontent.com/daialogue/SAD/master/images/Processo_tomada_de_decisao.png\" style=\"width:60%; margin:auto\"/>\n"
   ]
  },
  {
   "cell_type": "markdown",
   "metadata": {
    "slideshow": {
     "slide_type": "slide"
    }
   },
   "source": [
    "\n",
    "# Composição de um SAD\n",
    "---\n",
    "Os sistemas (inteligentes) de apoio à decisão (SAD) são compostos por:\n",
    "\n",
    "\n",
    "### Datawarehousing\n",
    "\n",
    "- Um conjunto de Dados (Datawarehouse)- multidimensional,  com multiplas origens e conteúdos, possivelmente  multiplas morfologias (estruturados, nao estruturados, tabulares, ficheiros, etc.);\n",
    "\n",
    "**Muitas vezes são muitos dados, com proveniências diferentes o que faz com que tenhamos que incorporar:**\n",
    "\n",
    "- Uma Enormidade dos dados\n",
    "- Com Alta dimensionalidade - (cada \"campo\" pode ter muitos valores distintos e existem muitos \"campos\")\n",
    "- Dados heterogéneos - com estilos diferentes: Bases de Dados, Jsons, Xml, campos extraídos da internet, etc.\n",
    "- Dados não estruturados - Mas também dados sem estrutura: exemplos - imagens, audio, texto corrido;\n",
    "\n",
    "---\n",
    "\n",
    "### Data Mining\n",
    "\n",
    "- Ferramentas de Querying/Agregação - como Pandas, OLAP entre outros (uma espécie de SQL);\n",
    "- Ferramentas de DataMining - Para determinar padrões nesses dados;\n",
    "- Ferramentas de Reporting/Apresentação de Resultados\n"
   ]
  },
  {
   "cell_type": "markdown",
   "metadata": {
    "slideshow": {
     "slide_type": "slide"
    }
   },
   "source": [
    "# Dois Grandes Blocos da Nossa Disciplina\n",
    "---\n",
    "\n",
    "#### Ferrramentas de Datawarehousing (Engineering point-of-view):\n",
    "\n",
    "Como podemos guardar os dados que precisamos. Vamos estudar:\n",
    "\n",
    "- Tecnologias de Datawarehousing; \n",
    "- Tecnologias de BigData - in-memory \n",
    "- Tendências\n",
    "\n",
    "\n",
    "---\n",
    "\n",
    "#### Ferramentas de Data Mining (DataScience point of View):\n",
    "\n",
    "Vamos estudar ferramentas para determinar padrões em dados, descreve-los e apresentar conclusões usando módulos específicos de Data Mining como:\n",
    "\n",
    "- iPython Notebooks\n",
    "- Pandas\n",
    "- Sklearn\n",
    "\n",
    "(**Python**)\n"
   ]
  },
  {
   "cell_type": "markdown",
   "metadata": {
    "slideshow": {
     "slide_type": "slide"
    }
   },
   "source": [
    "# 1) DatawareHousing\n",
    "---\n",
    "\n",
    "## O que é DatawareHousing\n",
    "\n",
    "Repositório Central (ou em cloud) de dados **integrados** de várias fontes distintas. \n",
    "\n",
    "- Serve para Reporting a Analise;\n",
    "- Obriga a que exista confiança nos dados e fiabilidade no sistema;\n",
    "- Datawarehouses são *Analytical databases* OLAP - estão opimizadas para operações de “leitura” rápida e muitos dados. Por isso correm separadamente dos sistemas de Bases de Dados Operacionais - *Transactional Databases* - Sobretudo preparadas para escever rápido, mantendo sempre a coerência dos dados.  \n",
    "\n",
    "\n",
    "Como funciona o processo de Apoio à Decisão:\n",
    "\n",
    "\n",
    "---\n",
    "\n",
    "### Data Selection >  Cleaning > Transformation > Mining > Interpretation\n",
    "\n",
    "---\n",
    "\n",
    "\n"
   ]
  },
  {
   "cell_type": "markdown",
   "metadata": {
    "slideshow": {
     "slide_type": "slide"
    }
   },
   "source": [
    "### Datawarehousing - Abordagem Clássica\n",
    "\n",
    "Os Sistemas de Datawarehousing clássicos são baseados em sistemas relacionais (tipo Relational Database Management Systems - RDBMS), multidimensionais com dados tipicamente arranjados para serem Extraídos, Transformados e Carregados (Loaded) (ETL) num local único e multi-relacionado - o datawarehouse - que faz o papel do \"ponto de verdade\" de toda a empresa. \n",
    "\n",
    "<img src=\"https://raw.githubusercontent.com/daialogue/SAD/master/images/ETL.png\" style=\"width:70%; margin:auto\"/>\n",
    "\n",
    "\n"
   ]
  },
  {
   "cell_type": "markdown",
   "metadata": {
    "slideshow": {
     "slide_type": "slide"
    }
   },
   "source": [
    "# Novas Abordagens\n",
    "\n",
    "##### Data Lakes for Large Scale Systems with Heterogeneous data structures\n",
    "\n",
    "A Confirmação de que dados não estruturados e BigData também podem ser analisados para gerar informações importantes para as empresas levaram ao conceito de **Data Lake**.\n",
    "\n",
    "Suporta todos os dados de todas as fontes, incluindo Bases de Dados relacionais, ficheiros e dados de redes sociais.\n",
    "\n",
    "Estes Sistemas usam uma abordagem *schema on read* em que estrutura e o esquema de dados são aplicados somente quando os dados são lidos do Data Lake para responder a uma questão de business intelligence ou para outros fins de análise. Por outras palavras, \n",
    "- enquanto um data warehouse funciona através de um processo ETL (extrair, transformar, carregar), \n",
    "- um lago de dados usa ELT  - **E**xtrair, **L**oad e depois, **quando necessário e de acordo com as necessidades**, **T**ransformar\n",
    "\n",
    "<img src=\"https://raw.githubusercontent.com/daialogue/SAD/master/images/ELT.png\" style=\"width:70%; margin:auto\"/>\n",
    "\n",
    "\n",
    "\n",
    "Um Exemplo de Data Lake é um sistema composto pelas ferramenas **Hadoop** ou  **Spark** ambas da Apache (open source).\n",
    "\n",
    "\n",
    "\n",
    "\n"
   ]
  },
  {
   "cell_type": "markdown",
   "metadata": {
    "slideshow": {
     "slide_type": "slide"
    }
   },
   "source": [
    "### Novas Abordagens (cont.)\n",
    "\n",
    "##### In-Memory Processing for Medium Scale Systems\n",
    "\n",
    "- In-Memory Database with your normal Pandas\n",
    "\n",
    "\n",
    "**Transactional vs Analytical Databases**\n"
   ]
  },
  {
   "cell_type": "markdown",
   "metadata": {},
   "source": [
    "# O que vamos aprender Sobre Datawarehousing\n",
    "---\n",
    "\n",
    "- Características base de um sistema de Datawarehouse Clássico\n",
    "- Implementar um pequeno sistema de Datawarehouse baseado em Python \n",
    "- Vamos partir do princípio que o nosso sistema funciona como ETL - e aplicar Datamining e Reporting tools\n",
    "\n",
    "\n",
    "----\n",
    "\n",
    "### No entanto, o ponto mais importante na tomada de decisão tem a ver com o Data Mining feito sobre os dados\n"
   ]
  },
  {
   "cell_type": "markdown",
   "metadata": {
    "collapsed": true,
    "slideshow": {
     "slide_type": "slide"
    }
   },
   "source": [
    "\n",
    "# 2) Data Mining \n",
    "---\n",
    "\n",
    "## O que é o Data Mining\n",
    "\n",
    "#### “Data mining is defined as the process of discovering patterns in data.”\n",
    "\n",
    "    — Data Mining: Practical Machine Learning Tools and Techniques, 3rd Edition (Witten, Frank & Hall)\n",
    "\n",
    "#### “Data mining is the process of automatically discovering useful information in large repositories of data.\"\n",
    "    \n",
    "    — Introduction to Data Mining (Tan, Kumar, & Steinbach)\n",
    "\n",
    "\n",
    "    \n"
   ]
  },
  {
   "cell_type": "markdown",
   "metadata": {},
   "source": [
    "# Passos no Processo de Data Mining\n",
    "\n",
    "Vamos considerar que já temos o nosso Datawarehousing system e queremos executar Extrair daí conhecimento. Partindo do modelo ELT, \n",
    "\n",
    "\n",
    "### Data Selection > Cleaning > Transformation > Mining > Interpretation\n",
    "\n",
    "Este é o processo geral, usado para Sistemas de Apoio à Decisão\n"
   ]
  },
  {
   "cell_type": "markdown",
   "metadata": {
    "slideshow": {
     "slide_type": "slide"
    }
   },
   "source": [
    "\n",
    "<img src=\"https://raw.githubusercontent.com/daialogue/SAD/master/images/data_mining_intro.png\" style=\"width:50%; margin:auto\"/>"
   ]
  },
  {
   "cell_type": "markdown",
   "metadata": {
    "slideshow": {
     "slide_type": "slide"
    }
   },
   "source": [
    "# Data Mining - Exemplos e Não Exemplos\n",
    "\n",
    "### Data Mining não é:\n",
    "\n",
    "- Procurar um numero de telefone num ficheiro com nome/número de telefone;\n",
    "\n",
    "<img src=\"https://raw.githubusercontent.com/daialogue/SAD/master/images/phones.png\" style=\"width:40%; margin:auto\"/>\n",
    "\n",
    "\n"
   ]
  },
  {
   "cell_type": "markdown",
   "metadata": {
    "slideshow": {
     "slide_type": "slide"
    }
   },
   "source": [
    "<div style=\"text-align:center\"> Procurar uma expressão no google</div>\n",
    "\n",
    "<img src=\"https://raw.githubusercontent.com/daialogue/SAD/master/images/googlesearch.png\" style=\"width:70%; margin:auto\"/>\n"
   ]
  },
  {
   "cell_type": "markdown",
   "metadata": {
    "slideshow": {
     "slide_type": "slide"
    }
   },
   "source": [
    "<div style=\"text-align:center\"> Gerar um histograma de Salários de uma empresa</div>\n",
    "\n",
    "<img src=\"https://raw.githubusercontent.com/daialogue/SAD/master/images/salarios.png\" style=\"width:40%; margin:auto\"/>\n"
   ]
  },
  {
   "cell_type": "markdown",
   "metadata": {
    "slideshow": {
     "slide_type": "slide"
    }
   },
   "source": [
    "### Data Mining é:\n",
    "\n",
    "<div style=\"text-align:center\"> Encontrar pessoas com perfis semelhantes</div>\n",
    "\n",
    "<img src=\"https://raw.githubusercontent.com/daialogue/SAD/master/images/social.png\" style=\"width:40%; margin:auto\"/>\n",
    "\n",
    "\n"
   ]
  },
  {
   "cell_type": "markdown",
   "metadata": {
    "slideshow": {
     "slide_type": "slide"
    }
   },
   "source": [
    "<div style=\"text-align:center\"> Perceber em dados de vendas numa empresa que quando alguem compra leite de criança...</div> \n",
    "\n",
    "#### <div style=\"text-align:center\"> É provavel que também compre Fraldas</div>\n",
    "\n",
    "<img src=\"https://raw.githubusercontent.com/daialogue/SAD/master/images/dippers.png\" style=\"width:40%; margin:auto\"/>\n",
    "\n",
    "\n",
    "\n"
   ]
  },
  {
   "cell_type": "markdown",
   "metadata": {
    "slideshow": {
     "slide_type": "slide"
    }
   },
   "source": [
    "# Definindo DataMining\n",
    "---\n",
    "\n",
    "\n",
    "## As principais tipos de tarefas do Data Mining são\n",
    "\n",
    "- Métodos de previsão (predictive Methods)\n",
    "    - Usar variáveis para prever valores desconhecidos ou futuros da mesma ou de outras variáveis: \n",
    "    \n",
    "    \n",
    "- Métodos de descrição (descriptive methods)\n",
    "    - Encontrar padrões de interpretação humana que descrevam os dados: \n",
    "\n",
    "    \n"
   ]
  },
  {
   "cell_type": "markdown",
   "metadata": {
    "slideshow": {
     "slide_type": "slide"
    }
   },
   "source": [
    "# Supervised vs Unsupervised\n",
    "---\n",
    "\n",
    "<img src=\"https://raw.githubusercontent.com/daialogue/SAD/master/images/machine-learning-supervised-vs-unsupervised-learning.png\" style=\"width:80%\"/>\n",
    "\n",
    "\n",
    "## Supervised Learning:\n",
    "\n",
    "**Composição:** Dataset com registos compostos por Features e Classificações;\n",
    "**Objectivo:** Classificar novos registos com base num modelo aprendido através da análise de registos previamente classificados.\n",
    "\n",
    "## Unsupervised Learning:\n",
    "\n",
    "**Composição:** Dataset com registos compostos por Features;\n",
    "**Objectivo:** Descobrir Clusters ou regras com base nos dados, sem que existam classes previamente definidas.\n",
    "\n",
    "---\n",
    "\n",
    "\n",
    "**Ainda mais outro exemplo que não vamos trabalhar mas que está muito em voga**\n",
    "\n",
    "> #### Reinforcement learning:\n",
    ">\n",
    "> **Composição:** sequência de estados e ações nas quais o algoritmo de aprendizagem interage com o ambiente e recebe feedback das suas acções;  \n",
    "> **Objectivo:** Aprender iterativamente quais as acções que aumentam o \"score\" da máquina, interagindo com o ambiente\n",
    "\n",
    "\n",
    "> See this! [Link Youtube](https://www.youtube.com/watch?v=xp-YOPcjkFw)\n"
   ]
  },
  {
   "cell_type": "markdown",
   "metadata": {
    "slideshow": {
     "slide_type": "slide"
    }
   },
   "source": [
    "\n",
    "# Métodos do Data Mining (usando machine learning)\n",
    "---\n",
    "\n",
    "\n",
    "#### Vamos Estudar\n",
    "**<span style=\"background-color: #EEEEEE\">supervised</span>**\n",
    "\n",
    "- **Classification**: Classificar um exemplar com **uma dada categoria** com base nas suas propriedades (*atributos*)\n",
    "\n",
    "- **Regression**: Assignar a um exemplar **um valor** com base nas suas propriedades (*atributos*)\n",
    "\n",
    "\n",
    "---\n",
    "**<span style=\"background-color: #EEEEEE\">unsupervised</span>**\n",
    "\n",
    "- **Clustering**: Agrupar registos ***\"semelhantes\"*** com base nas suas propriedades;\n",
    "\n",
    "- **Association Rule Discovery**: Associar registos a outros, com base no histórico\n",
    "\n",
    "---\n",
    "\n",
    "#### Não estudamos\n",
    "\n",
    "- <span style=\"background-color: #EEEEEE\">**Sequential Pattern Discovery**: Determinar padrões numa sequência, por exemplo, num conjunto de dados guardados ao longo do tempo </span>\n",
    "\n",
    "- <span style=\"background-color: #EEEEEE\">**Deviation Detection **: Detectar quando algo sai fora da normalidade ***(não vamos estudar)***</span>\n",
    "\n"
   ]
  }
 ],
 "metadata": {
  "celltoolbar": "Slideshow",
  "kernelspec": {
   "display_name": "Python 3",
   "language": "python",
   "name": "python3"
  },
  "language_info": {
   "codemirror_mode": {
    "name": "ipython",
    "version": 3
   },
   "file_extension": ".py",
   "mimetype": "text/x-python",
   "name": "python",
   "nbconvert_exporter": "python",
   "pygments_lexer": "ipython3",
   "version": "3.6.0"
  }
 },
 "nbformat": 4,
 "nbformat_minor": 2
}
