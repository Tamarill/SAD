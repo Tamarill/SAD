{
 "cells": [
  {
   "cell_type": "markdown",
   "metadata": {},
   "source": [
    "# SAD - TPC 1\n",
    "\n",
    "### Dominar a linguagem Python\n",
    "\n",
    "----\n",
    "\n",
    "Uma string S composta de N caracteres é considerada como correta se qualquer uma das seguintes condições for verdadeira:\n",
    "\n",
    "- S for vazia;\n",
    "- S tem a forma \"(U)\" ou \"[U]\" ou \"{U}\" onde U é também uma string correta;\n",
    "- S tem a forma \"VW\" onde V e W são strings corretas.\n",
    "\n",
    "\n",
    "Por exemplo, a string \"{[() ()]}\" é considerada correta, mas \"([) ()]\" não é.\n",
    "\n",
    "Escreva uma função:\n",
    "\n",
    "```def solution(S)```\n",
    "\n",
    "que, dada uma sequência S com N caracteres, retorna 1 se S estiver correta e 0 caso contrário.\n",
    "\n",
    "Por exemplo, dado S = \"{[() ()]}\", a função deve retornar 1 e dado S = \"([) ()]\", a função deve retornar 0, como explicado acima.\n",
    "\n",
    "Assuma que:\n",
    "\n",
    "- N é um número inteiro dentro do intervalo [0..200,000];\n",
    "- A string S consiste apenas nos seguintes caracteres: \"(\", \"{\", \"[\", \"]\", \"}\" e / ou \")\".\n",
    "\n",
    "\n"
   ]
  }
 ],
 "metadata": {
  "kernelspec": {
   "display_name": "Python 3",
   "language": "python",
   "name": "python3"
  },
  "language_info": {
   "codemirror_mode": {
    "name": "ipython",
    "version": 3
   },
   "file_extension": ".py",
   "mimetype": "text/x-python",
   "name": "python",
   "nbconvert_exporter": "python",
   "pygments_lexer": "ipython3",
   "version": "3.6.0"
  }
 },
 "nbformat": 4,
 "nbformat_minor": 2
}
