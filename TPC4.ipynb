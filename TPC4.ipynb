{
  "nbformat": 4,
  "nbformat_minor": 0,
  "metadata": {
    "colab": {
      "name": "TPC4",
      "version": "0.3.2",
      "provenance": [],
      "include_colab_link": true
    },
    "kernelspec": {
      "name": "python3",
      "display_name": "Python 3"
    }
  },
  "cells": [
    {
      "cell_type": "markdown",
      "metadata": {
        "id": "view-in-github",
        "colab_type": "text"
      },
      "source": [
        "<a href=\"https://colab.research.google.com/github/Tamarill/SAD/blob/master/TPC4.ipynb\" target=\"_parent\"><img src=\"https://colab.research.google.com/assets/colab-badge.svg\" alt=\"Open In Colab\"/></a>"
      ]
    },
    {
      "metadata": {
        "id": "C8Nvw1zXmxRx",
        "colab_type": "text"
      },
      "cell_type": "markdown",
      "source": [
        "<h1>Importação dataset</h1>"
      ]
    },
    {
      "metadata": {
        "id": "jeYV5gh8mid2",
        "colab_type": "code",
        "colab": {}
      },
      "cell_type": "code",
      "source": [
        "#!pip install graphviz\n",
        "#!apt-get install graphviz\n",
        "\n",
        "# Import datasets, classifiers and performance metrics\n",
        "from sklearn import datasets, tree, model_selection\n",
        "\n",
        "# The digits dataset\n",
        "digits = datasets.load_digits()"
      ],
      "execution_count": 0,
      "outputs": []
    },
    {
      "metadata": {
        "id": "GPy6Rd-UnAam",
        "colab_type": "text"
      },
      "cell_type": "markdown",
      "source": [
        "<h1>Decision Tree</h1>"
      ]
    },
    {
      "metadata": {
        "id": "xZaxSsyVqbcZ",
        "colab_type": "code",
        "colab": {
          "base_uri": "https://localhost:8080/",
          "height": 72
        },
        "outputId": "70e1d125-1840-4ea5-d89c-c2703f162c1d"
      },
      "cell_type": "code",
      "source": [
        "[features_train, features_test, classes_train, classes_test] = model_selection.train_test_split(digits.data, digits.target, test_size=0.30)\n",
        "modelDT = tree.DecisionTreeClassifier()\n",
        "\n",
        "clfDT = modelDT.fit(features_train, classes_train)\n",
        "\n",
        "score_train = modelDT.score(features_train, classes_train)\n",
        "score_test = modelDT.score(features_test, classes_test)\n",
        "\n",
        "print(\"Features:\", digits.target_names)\n",
        "print(\"score_train:\", score_train)\n",
        "print(\"score_test:\", score_test)\n"
      ],
      "execution_count": 17,
      "outputs": [
        {
          "output_type": "stream",
          "text": [
            "Features: [0 1 2 3 4 5 6 7 8 9]\n",
            "score_train: 1.0\n",
            "score_test: 0.8240740740740741\n"
          ],
          "name": "stdout"
        }
      ]
    },
    {
      "metadata": {
        "id": "zQh2QiHz4E25",
        "colab_type": "text"
      },
      "cell_type": "markdown",
      "source": [
        "<h1>Random Forrest</h1>"
      ]
    },
    {
      "metadata": {
        "id": "Kf2v-5p4yfHU",
        "colab_type": "code",
        "colab": {
          "base_uri": "https://localhost:8080/",
          "height": 54
        },
        "outputId": "48f8ef8f-7059-4573-c59f-1a008838b6f9"
      },
      "cell_type": "code",
      "source": [
        "from sklearn.ensemble import RandomForestClassifier\n",
        "\n",
        "\n",
        "modelRF = RandomForestClassifier(n_estimators=1000)\n",
        "\n",
        "clfRF = modelRF.fit(features_train, classes_train)\n",
        "\n",
        "score_train = modelRF.score(features_train, classes_train)\n",
        "score_test = modelRF.score(features_test, classes_test)\n",
        "\n",
        "print(\"score_train:\", score_train)\n",
        "print(\"score_test:\", score_test)"
      ],
      "execution_count": 19,
      "outputs": [
        {
          "output_type": "stream",
          "text": [
            "score_train: 1.0\n",
            "score_test: 0.9796296296296296\n"
          ],
          "name": "stdout"
        }
      ]
    },
    {
      "metadata": {
        "id": "qzZtvBC64qHW",
        "colab_type": "text"
      },
      "cell_type": "markdown",
      "source": [
        "<h1>Naive Bayes</h1>"
      ]
    },
    {
      "metadata": {
        "id": "AAn_1uGo4u2Z",
        "colab_type": "code",
        "colab": {
          "base_uri": "https://localhost:8080/",
          "height": 54
        },
        "outputId": "6117b629-fa1b-43a4-d7d6-86121782f3f2"
      },
      "cell_type": "code",
      "source": [
        "from sklearn.naive_bayes import GaussianNB\n",
        "\n",
        "gnb = GaussianNB()\n",
        "\n",
        "y_pred = gnb.fit(features_train, classes_train)\n",
        "\n",
        "score_train = gnb.score(features_train, classes_train)\n",
        "score_test = gnb.score(features_test, classes_test)\n",
        "\n",
        "print(\"score_train:\", score_train)\n",
        "print(\"score_test:\", score_test)"
      ],
      "execution_count": 20,
      "outputs": [
        {
          "output_type": "stream",
          "text": [
            "score_train: 0.8568019093078759\n",
            "score_test: 0.8518518518518519\n"
          ],
          "name": "stdout"
        }
      ]
    }
  ]
}