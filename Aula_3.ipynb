{
 "cells": [
  {
   "cell_type": "markdown",
   "metadata": {
    "collapsed": true
   },
   "source": [
    "# Aula 3 - Tarefas do *Data Mining*\n"
   ]
  },
  {
   "cell_type": "markdown",
   "metadata": {
    "slideshow": {
     "slide_type": "slide"
    }
   },
   "source": [
    "# Recordando da última aula\n",
    "\n",
    "## Métodos do Data Mining (usando machine learning)\n",
    "\n",
    "\n",
    "#### Vamos Estudar\n",
    "\n",
    "- **Classification <span style=\"background-color: #EEEEEE\">supervised</span>**: Classificar um exemplar com **uma dada categoria** com base nas suas propriedades (*atributos*)\n",
    "\n",
    "- **Regression <span style=\"background-color: #EEEEEE\">supervised</span>**: Assignar a um exemplar **um valor** com base nas suas propriedades (*atributos*)\n",
    "\n",
    "\n",
    "---\n",
    "\n",
    "- **Clustering <span style=\"background-color: #EEEEEE\">unsupervised</span>**: Agrupar registos ***\"semelhantes\"*** com base nas suas propriedades;\n",
    "\n",
    "- **Association Rule Discovery <span style=\"background-color: #EEEEEE\">unsupervised </span>**: Associar registos a outros, com base no histórico\n",
    "\n",
    "---\n",
    "\n",
    "#### Não estudamos\n",
    "\n",
    "- <span style=\"background-color: #EEEEEE\">**Sequential Pattern Discovery**: Determinar padrões numa sequência, por exemplo, num conjunto de dados guardados ao longo do tempo </span>\n",
    "\n",
    "- <span style=\"background-color: #EEEEEE\">**Deviation Detection **: Detectar quando algo sai fora da normalidade ***(não vamos estudar)***</span>\n",
    "\n"
   ]
  },
  {
   "cell_type": "markdown",
   "metadata": {
    "slideshow": {
     "slide_type": "slide"
    }
   },
   "source": [
    "# <div style=\"text-align:center\">Vamos Começar por perceber exactamente o que cada uma destas tarefas são com exemplos</div>"
   ]
  },
  {
   "cell_type": "markdown",
   "metadata": {
    "slideshow": {
     "slide_type": "slide"
    }
   },
   "source": [
    "# Classification\n",
    "\n",
    "> Classificar um exemplar com uma dada categoria com base nas suas propriedades\n",
    "\n",
    "> **Trata-se de uma classificação Qualitativa**\n",
    "\n",
    "### Exemplos:\n",
    "\n",
    "- Prever casos fraudulentos em transações de cartão de crédito (Clasificação Binária)\n",
    "\n",
    "- Reconhecer escrita manual (Classificar num conjunto de classes)\n",
    "   \n",
    "<img src=\"https://raw.githubusercontent.com/daialogue/SAD/master/images/classification_example.png\" style=\"width:40%; margin:auto\"/>  \n",
    "\n",
    "\n",
    "- Prever se um cliente será perdido para um concorrente (Clasificação Binária)\n"
   ]
  },
  {
   "cell_type": "markdown",
   "metadata": {
    "slideshow": {
     "slide_type": "slide"
    }
   },
   "source": [
    "## Classification (cont.)\n",
    "\n",
    "### Alguma terminologia para dados\n",
    "\n",
    "Nos casos anteriores, podemos explicitar como os conceitos de \"features\" e de \"Labels\" devem ser aplicadas ao nosso conjunto de dados; \n",
    "\n",
    "|Problema|Features/Attributes/Parameters|Class/Label/Target|\n",
    "|-----|-----|----|\n",
    "|**Previsao estado do Cliente**|numero de contactos/ de onde e quando liga/ status financeiro/ expiração do contrato atual|Cliente / Desistência|\n",
    "|**Fraude**|Account information, Transacções recentes, Locais e Datas das transacções|Fraude / Não Fraude|\n",
    "|**Escrita manual**|Pixels|algarismos de 0 a 9|"
   ]
  },
  {
   "cell_type": "markdown",
   "metadata": {
    "slideshow": {
     "slide_type": "slide"
    }
   },
   "source": [
    "## Exemplo de Classificação mais detalhado\n",
    "\n",
    "### Vamos analisar o caso de Classificação de Fraude/ Não Fraude\n",
    "\n",
    "O tipo de DataSet com que vamos trabalhar será algo como:"
   ]
  },
  {
   "cell_type": "code",
   "execution_count": 2,
   "metadata": {
    "collapsed": true,
    "slideshow": {
     "slide_type": "subslide"
    }
   },
   "outputs": [],
   "source": [
    "from IPython.core.interactiveshell import InteractiveShell\n",
    "InteractiveShell.ast_node_interactivity = \"all\"\n",
    "\n",
    "import pandas as pd\n",
    "import numpy as np\n",
    "import matplotlib.pyplot as plt\n",
    "from mpl_toolkits.mplot3d import Axes3D\n",
    "n=100"
   ]
  },
  {
   "cell_type": "code",
   "execution_count": 3,
   "metadata": {
    "slideshow": {
     "slide_type": "subslide"
    }
   },
   "outputs": [
    {
     "data": {
      "text/plain": [
       "(100, 5)"
      ]
     },
     "execution_count": 3,
     "metadata": {},
     "output_type": "execute_result"
    }
   ],
   "source": [
    "ES = np.fromiter((\"Solteiro\" if n >0.5 else \"Casado\" for n in np.random.rand(100,1)), dtype=(\"U8\")).reshape(-1,1)\n",
    "rendimentos =  (np.random.rand(100,1)*1000+500).astype(int)\n",
    "cidade = np.array([\"Yes\" if n >0.5 else \"No\" for n in np.random.rand(100,1)]).reshape(-1,1)\n",
    "trans =  (np.random.rand(100,1)*2000+50).astype(int)\n",
    "target = np.array([\"Fraud\" if n >0.5 else \"No Fraud\" for n in np.random.rand(100,1)]).reshape(-1,1)\n",
    "arr = np.concatenate((ES, rendimentos, cidade, trans, target), axis=1)\n",
    "arr.shape\n",
    "df = pd.DataFrame(arr, columns= [\"Estado Civil\", \"Rendimentos Mensais\", \"Mesma Cidade de Habitação\", \"Valor da Transacção\", \"Classe/Label\"])"
   ]
  },
  {
   "cell_type": "code",
   "execution_count": 4,
   "metadata": {
    "slideshow": {
     "slide_type": "slide"
    }
   },
   "outputs": [
    {
     "data": {
      "text/html": [
       "<div>\n",
       "<style>\n",
       "    .dataframe thead tr:only-child th {\n",
       "        text-align: right;\n",
       "    }\n",
       "\n",
       "    .dataframe thead th {\n",
       "        text-align: left;\n",
       "    }\n",
       "\n",
       "    .dataframe tbody tr th {\n",
       "        vertical-align: top;\n",
       "    }\n",
       "</style>\n",
       "<table border=\"1\" class=\"dataframe\">\n",
       "  <thead>\n",
       "    <tr style=\"text-align: right;\">\n",
       "      <th></th>\n",
       "      <th>Estado Civil</th>\n",
       "      <th>Rendimentos Mensais</th>\n",
       "      <th>Mesma Cidade de Habitação</th>\n",
       "      <th>Valor da Transacção</th>\n",
       "      <th>Classe/Label</th>\n",
       "    </tr>\n",
       "  </thead>\n",
       "  <tbody>\n",
       "    <tr>\n",
       "      <th>0</th>\n",
       "      <td>Casado</td>\n",
       "      <td>872</td>\n",
       "      <td>No</td>\n",
       "      <td>868</td>\n",
       "      <td>Fraud</td>\n",
       "    </tr>\n",
       "    <tr>\n",
       "      <th>1</th>\n",
       "      <td>Solteiro</td>\n",
       "      <td>680</td>\n",
       "      <td>Yes</td>\n",
       "      <td>446</td>\n",
       "      <td>No Fraud</td>\n",
       "    </tr>\n",
       "    <tr>\n",
       "      <th>2</th>\n",
       "      <td>Solteiro</td>\n",
       "      <td>804</td>\n",
       "      <td>No</td>\n",
       "      <td>1298</td>\n",
       "      <td>Fraud</td>\n",
       "    </tr>\n",
       "    <tr>\n",
       "      <th>3</th>\n",
       "      <td>Casado</td>\n",
       "      <td>1326</td>\n",
       "      <td>Yes</td>\n",
       "      <td>1224</td>\n",
       "      <td>Fraud</td>\n",
       "    </tr>\n",
       "    <tr>\n",
       "      <th>4</th>\n",
       "      <td>Solteiro</td>\n",
       "      <td>913</td>\n",
       "      <td>Yes</td>\n",
       "      <td>891</td>\n",
       "      <td>No Fraud</td>\n",
       "    </tr>\n",
       "  </tbody>\n",
       "</table>\n",
       "</div>"
      ],
      "text/plain": [
       "  Estado Civil Rendimentos Mensais Mesma Cidade de Habitação  \\\n",
       "0       Casado                 872                        No   \n",
       "1     Solteiro                 680                       Yes   \n",
       "2     Solteiro                 804                        No   \n",
       "3       Casado                1326                       Yes   \n",
       "4     Solteiro                 913                       Yes   \n",
       "\n",
       "  Valor da Transacção Classe/Label  \n",
       "0                 868        Fraud  \n",
       "1                 446     No Fraud  \n",
       "2                1298        Fraud  \n",
       "3                1224        Fraud  \n",
       "4                 891     No Fraud  "
      ]
     },
     "execution_count": 4,
     "metadata": {},
     "output_type": "execute_result"
    }
   ],
   "source": [
    "df.head()"
   ]
  },
  {
   "cell_type": "markdown",
   "metadata": {
    "slideshow": {
     "slide_type": "-"
    }
   },
   "source": [
    "## Comentários\n",
    "\n",
    "- Repare-se no tipo de dados (categorical, continuous, Boolean)\n",
    "- Repare-se no tipo de classificação necessária: binária\n",
    "\n",
    "\n",
    "### O que se pretende\n",
    "\n",
    "Obter um **modelo** que estime qual a classificação de novos exemplares, por exemplo:"
   ]
  },
  {
   "cell_type": "code",
   "execution_count": 5,
   "metadata": {
    "collapsed": true,
    "slideshow": {
     "slide_type": "subslide"
    }
   },
   "outputs": [],
   "source": [
    "data = np.array([\"Casado\", 750, \"Yes\", 1500, \"?\"]).reshape(1,-1)\n",
    "df = pd.DataFrame(data, columns= [\"Estado Civil\", \"Rendimentos Mensais\", \"Mesma Cidade de Habitação\", \"Valor da Transacção\", \"Classe/Label\"])"
   ]
  },
  {
   "cell_type": "code",
   "execution_count": 6,
   "metadata": {
    "slideshow": {
     "slide_type": "slide"
    }
   },
   "outputs": [
    {
     "data": {
      "text/html": [
       "<div>\n",
       "<style>\n",
       "    .dataframe thead tr:only-child th {\n",
       "        text-align: right;\n",
       "    }\n",
       "\n",
       "    .dataframe thead th {\n",
       "        text-align: left;\n",
       "    }\n",
       "\n",
       "    .dataframe tbody tr th {\n",
       "        vertical-align: top;\n",
       "    }\n",
       "</style>\n",
       "<table border=\"1\" class=\"dataframe\">\n",
       "  <thead>\n",
       "    <tr style=\"text-align: right;\">\n",
       "      <th></th>\n",
       "      <th>Estado Civil</th>\n",
       "      <th>Rendimentos Mensais</th>\n",
       "      <th>Mesma Cidade de Habitação</th>\n",
       "      <th>Valor da Transacção</th>\n",
       "      <th>Classe/Label</th>\n",
       "    </tr>\n",
       "  </thead>\n",
       "  <tbody>\n",
       "    <tr>\n",
       "      <th>0</th>\n",
       "      <td>Casado</td>\n",
       "      <td>750</td>\n",
       "      <td>Yes</td>\n",
       "      <td>1500</td>\n",
       "      <td>?</td>\n",
       "    </tr>\n",
       "  </tbody>\n",
       "</table>\n",
       "</div>"
      ],
      "text/plain": [
       "  Estado Civil Rendimentos Mensais Mesma Cidade de Habitação  \\\n",
       "0       Casado                 750                       Yes   \n",
       "\n",
       "  Valor da Transacção Classe/Label  \n",
       "0                1500            ?  "
      ]
     },
     "execution_count": 6,
     "metadata": {},
     "output_type": "execute_result"
    }
   ],
   "source": [
    "df"
   ]
  },
  {
   "cell_type": "markdown",
   "metadata": {
    "slideshow": {
     "slide_type": "-"
    }
   },
   "source": [
    "### Vamos usar Algoritmos para aprendermos a classificar estes novos registos"
   ]
  },
  {
   "cell_type": "markdown",
   "metadata": {
    "slideshow": {
     "slide_type": "slide"
    }
   },
   "source": [
    "# Regression\n",
    "\n",
    ">Assignar a um exemplar um valor com base nas suas propriedades\n",
    "\n",
    ">**Trata-se de uma classificação Quantitiativa**\n",
    "\n",
    "### Exemplos:\n",
    "\n",
    "- Previsão de números de vendas de um novo produto com base em despesa/tipo(s)/duração das campanhas publicitárias\n",
    "\n",
    "- Previsão de séries temporais de índices de mercado de ações com base em notícias e outros eventos"
   ]
  },
  {
   "cell_type": "markdown",
   "metadata": {
    "slideshow": {
     "slide_type": "slide"
    }
   },
   "source": [
    "#### Vamos ver como funciona um modelo de regressão neste último caso:\n",
    "\n",
    "Vamos estimar as cotações da bolsa da Galp para o fim da semana: vamos saber qual a variação da cotação do início para o fim da semana e chamemos a este resultado **Weekly_Delta**\n",
    "\n",
    "Imagine-se que temos na nossa posse as seguintes **features** relacionados com notícias:\n",
    "\n",
    "- Relevância para a Galp - valor de 0 a 20 (onde menor que 10 faz descer a cotação)\n",
    "- Broadcast (0 a 20 consoante a credibilidade do meio de comunicação onde apareceu)\n",
    "\n",
    "Temos então uma tabela de informação do estilo:"
   ]
  },
  {
   "cell_type": "code",
   "execution_count": 9,
   "metadata": {
    "collapsed": true,
    "slideshow": {
     "slide_type": "subslide"
    }
   },
   "outputs": [],
   "source": [
    "relev = np.random.rand(n,1)*20\n",
    "broadcast = np.random.rand(n,1)*20"
   ]
  },
  {
   "cell_type": "code",
   "execution_count": 10,
   "metadata": {
    "slideshow": {
     "slide_type": "subslide"
    }
   },
   "outputs": [
    {
     "name": "stdout",
     "output_type": "stream",
     "text": [
      "(100, 3)\n"
     ]
    }
   ],
   "source": [
    "datanp = np.concatenate((relev, \n",
    "                         broadcast, \n",
    "                         (((relev-10)**3+np.random.rand(n,1)-0.5)*.005)+((broadcast-10)*5+np.random.rand(n,1)-0.5)*0.02), axis=1)\n",
    "\n",
    "print(datanp.shape)\n",
    "my_data = pd.DataFrame(datanp, columns= [\"Broadcast\",\"Relevance\", \"Weekly_Delta (Target)\"])"
   ]
  },
  {
   "cell_type": "code",
   "execution_count": 21,
   "metadata": {
    "slideshow": {
     "slide_type": "slide"
    }
   },
   "outputs": [
    {
     "data": {
      "text/html": [
       "<div>\n",
       "<style>\n",
       "    .dataframe thead tr:only-child th {\n",
       "        text-align: right;\n",
       "    }\n",
       "\n",
       "    .dataframe thead th {\n",
       "        text-align: left;\n",
       "    }\n",
       "\n",
       "    .dataframe tbody tr th {\n",
       "        vertical-align: top;\n",
       "    }\n",
       "</style>\n",
       "<table border=\"1\" class=\"dataframe\">\n",
       "  <thead>\n",
       "    <tr style=\"text-align: right;\">\n",
       "      <th></th>\n",
       "      <th>Broadcast</th>\n",
       "      <th>Relevance</th>\n",
       "      <th>Weekly_Delta (Target)</th>\n",
       "    </tr>\n",
       "  </thead>\n",
       "  <tbody>\n",
       "    <tr>\n",
       "      <th>0</th>\n",
       "      <td>13.998168</td>\n",
       "      <td>7.072976</td>\n",
       "      <td>0.035089</td>\n",
       "    </tr>\n",
       "    <tr>\n",
       "      <th>1</th>\n",
       "      <td>5.251529</td>\n",
       "      <td>12.648720</td>\n",
       "      <td>-0.260360</td>\n",
       "    </tr>\n",
       "    <tr>\n",
       "      <th>2</th>\n",
       "      <td>17.074213</td>\n",
       "      <td>19.282552</td>\n",
       "      <td>2.694839</td>\n",
       "    </tr>\n",
       "    <tr>\n",
       "      <th>3</th>\n",
       "      <td>17.848087</td>\n",
       "      <td>11.879574</td>\n",
       "      <td>2.609564</td>\n",
       "    </tr>\n",
       "    <tr>\n",
       "      <th>4</th>\n",
       "      <td>17.177002</td>\n",
       "      <td>7.025352</td>\n",
       "      <td>1.548740</td>\n",
       "    </tr>\n",
       "  </tbody>\n",
       "</table>\n",
       "</div>"
      ],
      "text/plain": [
       "   Broadcast  Relevance  Weekly_Delta (Target)\n",
       "0  13.998168   7.072976               0.035089\n",
       "1   5.251529  12.648720              -0.260360\n",
       "2  17.074213  19.282552               2.694839\n",
       "3  17.848087  11.879574               2.609564\n",
       "4  17.177002   7.025352               1.548740"
      ]
     },
     "execution_count": 21,
     "metadata": {},
     "output_type": "execute_result"
    }
   ],
   "source": [
    "my_data.head()"
   ]
  },
  {
   "cell_type": "markdown",
   "metadata": {
    "slideshow": {
     "slide_type": "slide"
    }
   },
   "source": [
    "Se pegarmos na feature Broadcast e traçarmos um gráfico Relevance vs Weekly_Delta (Target Value) obtemos:"
   ]
  },
  {
   "cell_type": "code",
   "execution_count": 14,
   "metadata": {},
   "outputs": [
    {
     "data": {
      "text/plain": [
       "[<matplotlib.lines.Line2D at 0x1171b5940>]"
      ]
     },
     "execution_count": 14,
     "metadata": {},
     "output_type": "execute_result"
    },
    {
     "data": {
      "text/plain": [
       "[0, 20, -5, 5]"
      ]
     },
     "execution_count": 14,
     "metadata": {},
     "output_type": "execute_result"
    },
    {
     "data": {
      "image/png": "[encoded data removed]",
      "text/plain": [
       "<matplotlib.figure.Figure at 0x117213080>"
      ]
     },
     "metadata": {},
     "output_type": "display_data"
    }
   ],
   "source": [
    "plt.plot(my_data[\"Broadcast\"], my_data[\"Weekly_Delta (Target)\"], \".\")\n",
    "plt.grid()\n",
    "plt.axis([0, 20, -5, 5])\n",
    "plt.show()"
   ]
  },
  {
   "cell_type": "markdown",
   "metadata": {
    "slideshow": {
     "slide_type": "slide"
    }
   },
   "source": [
    "Mas se pegarmos na feature Relevância e traçarmos um gráfico Relevance vs Weekly_Delta (Target Value) obtemos:"
   ]
  },
  {
   "cell_type": "code",
   "execution_count": 16,
   "metadata": {},
   "outputs": [
    {
     "data": {
      "text/plain": [
       "[<matplotlib.lines.Line2D at 0x116f98dd8>]"
      ]
     },
     "execution_count": 16,
     "metadata": {},
     "output_type": "execute_result"
    },
    {
     "data": {
      "text/plain": [
       "[0, 20, -10, 10]"
      ]
     },
     "execution_count": 16,
     "metadata": {},
     "output_type": "execute_result"
    },
    {
     "data": {
      "image/png": "[encoded data removed]",
      "text/plain": [
       "<matplotlib.figure.Figure at 0x1171c4630>"
      ]
     },
     "metadata": {},
     "output_type": "display_data"
    }
   ],
   "source": [
    "plt.plot(my_data[\"Relevance\"], my_data[\"Weekly_Delta (Target)\"], \".\")\n",
    "plt.grid()\n",
    "plt.axis([0, 20, -10, 10])\n",
    "plt.show()"
   ]
  },
  {
   "cell_type": "markdown",
   "metadata": {
    "slideshow": {
     "slide_type": "slide"
    }
   },
   "source": [
    "Vendo estes dados em \"3D\", como podemos prever o comportamento destas acções?"
   ]
  },
  {
   "cell_type": "code",
   "execution_count": 19,
   "metadata": {
    "slideshow": {
     "slide_type": "-"
    }
   },
   "outputs": [
    {
     "data": {
      "text/plain": [
       "<mpl_toolkits.mplot3d.art3d.Path3DCollection at 0x1172cfe48>"
      ]
     },
     "execution_count": 19,
     "metadata": {},
     "output_type": "execute_result"
    },
    {
     "data": {
      "image/png": "[encoded data removed]",
      "text/plain": [
       "<matplotlib.figure.Figure at 0x116f9b860>"
      ]
     },
     "metadata": {},
     "output_type": "display_data"
    }
   ],
   "source": [
    "fig = plt.figure()\n",
    "ax = fig.gca(projection='3d')\n",
    "ax.scatter(my_data[\"Broadcast\"], my_data[\"Relevance\"],my_data[\"Weekly_Delta (Target)\"])\n",
    "plt.show()"
   ]
  },
  {
   "cell_type": "markdown",
   "metadata": {
    "slideshow": {
     "slide_type": "slide"
    }
   },
   "source": [
    "Podemos concluir várias coisas:\n",
    "\n",
    "- A relação do valor esperado com o a *feature* Relevance é **linear** (apesar do aparente ruído - **será ruído**?)\n",
    "\n",
    "- Assim, um modelo que descreve correctamente o **Valor da ação vs Relevance** (caso não houvesse mais dados) poderia ser um modelo linear - **regressão linear** do tipo \n",
    "\n",
    "$$Y = a+BX[Relevance]$$ \n",
    "\n",
    "onde X poderiam ser features concatenadas na mesma matriz verticalmente\n",
    "\n",
    "---\n",
    "\n",
    "- A relação do valor esperado com o a *feature* Broadcast é **não linear**\n",
    "\n",
    "- Assim, um modelo que descreve correctamente o **Valor da ação vs Broadcast** (caso todos os dados tivessem esta relação) poderia ser um modelo linear - **regressão não-linear** do tipo \n",
    "\n",
    "$$Y = f(X[Broadcast])$$\n",
    "\n",
    "onde de novo X poderiam ser features concatenadas na mesma matriz verticalmente;\n"
   ]
  },
  {
   "cell_type": "markdown",
   "metadata": {
    "slideshow": {
     "slide_type": "slide"
    }
   },
   "source": [
    "## Regression (cont.)\n",
    "---\n",
    "### Alguns comentários adicionais\n",
    "\n",
    "Podemos ter também como atributos o valor da própria ação e de outras, que poderão influenciar a cotação da Galp;\n",
    "\n",
    "- Cotação actual Galp\n",
    "- Variação da Cotação da galp na útlima semana (subiu ou desceu quanto)\n",
    "- Variação da Cotação na última semana do petróleo;\n",
    "- Variação da Cotação na última semana da BP, Shell, etc.\n",
    "\n",
    "---\n",
    "\n",
    "Se repararem, existem vários problemas de classificação/regressão que devem ser aplicadados antes resolvermos este:\n",
    "Quais são?"
   ]
  },
  {
   "cell_type": "markdown",
   "metadata": {
    "slideshow": {
     "slide_type": "slide"
    }
   },
   "source": [
    "## Regression (cont.)\n",
    "---\n",
    "### Alguns comentários adicionais (cont.)\n",
    "\n",
    "##### são eles:\n",
    "\n",
    "- Regressão para \"classificar\" na escala de 0 a 20 a \"Relevância\" de cada notícia.\n",
    "- Regressão para \"classificar\" na escala de 0 a 20 a \"Broadcast\" de cada notícia.\n",
    "\n",
    "Como deveria isto ser feito? Quais seriam as \"features\"? Qual seria o \"target\" value?"
   ]
  },
  {
   "cell_type": "markdown",
   "metadata": {
    "slideshow": {
     "slide_type": "slide"
    }
   },
   "source": [
    "# Clustering \n",
    "---\n",
    "\n",
    "> Agrupar exemplares com base nas suas propriedades. \n",
    "\n",
    "> É um processo de aprendizagem **não supervisionado**.\n",
    "\n",
    "Exemplos:\n",
    "\n",
    "- Encontrar grupos de documentos que são semelhantes entre si com base em termos relevantes que neles aparecem;\n",
    "- Subdividir um mercado em subconjuntos de clientes, onde cada subconjunto pode ser trabalhado de forma específica;"
   ]
  },
  {
   "cell_type": "markdown",
   "metadata": {
    "slideshow": {
     "slide_type": "slide"
    }
   },
   "source": [
    "## Clustering (cont.)\n",
    "---\n",
    "#### Comentários \n",
    "##### Tomemos o exemplo do clustering de documentos semelhantes\n",
    "\n",
    "- Repare-se que não existem, à partida, Classes - estas serão criadas com base nas combinações de \"features\" que vão surgindo nos documentos.<img src=\"./images/Cluster_data.png\" style=\"width:40%; margin:auto\"/> \n",
    "Por exemplo, neste caso nada nos diz à partida que categorias existem - são criadas de acordo com o tipo de documentos que foram analisados\n",
    "\n",
    "- Os grupos são criados medindo quantivamente a semelhança entre registos e denotando a que grupo cada um deve pertencer.\n",
    "\n",
    "\n"
   ]
  },
  {
   "cell_type": "markdown",
   "metadata": {
    "slideshow": {
     "slide_type": "slide"
    }
   },
   "source": [
    "## Association Rule Discovery\n",
    "---\n",
    "Dado um conjunto de registros, cada um dos quais contém alguns items de uma determinada coleção, \"Desccobrir\" regras de dependência que prevejam a ocorrência de um item com base em ocorrências de outros itens - **é uma aprendizagem não supervisionada**\n",
    "\n",
    "### Exemplos:\n",
    "\n",
    "- **Marketing and sales promotion** - regras de associação permitem, por exemplo:\n",
    "    - Perceber que quais os produtos cuja venda faz disparar as vendas de um produto \"Pão\" $$[Prods] => Pão$$\n",
    "    - Perceber que produtos são mais afectados pela falta de venda de pão $$[Pão] => Prods$$    \n",
    "    "
   ]
  },
  {
   "cell_type": "markdown",
   "metadata": {
    "slideshow": {
     "slide_type": "slide"
    }
   },
   "source": [
    "## Association Rule Discovery\n",
    "---\n",
    "\n",
    "- **Gestão do posicionamento de prateleiras num Supermacado** - Ninguem se surpreende em encontrar molhos ketchup junto das batatas fritas;\n",
    "\n",
    "<img src=\"https://raw.githubusercontent.com/daialogue/SAD/master/images/supermarket.jpg\" style=\"width:40%; margin:auto\"/>\n",
    "\n",
    "- **Gestão do posicionamento de produtos numa Webpage** (Pelo mesmo motivo que o anterior)"
   ]
  },
  {
   "cell_type": "markdown",
   "metadata": {},
   "source": [
    "- **Gestão de inventário** - Se a demanda de produtos está correlacionada, então \n",
    "    - a sua encomenda a fornecedores também pode ser prevista em conjunto\n",
    "    - No caso de serviços de reparação, as peças a levar na carrinha pelo técnico podem igualmente ser previstas desta forma. O mesmo se pode dizer de ferramentas;\n",
    "\n",
    "<img src=\"https://raw.githubusercontent.com/daialogue/SAD/master/images/car_with_tools.jpg\" style=\"width:40%; margin:auto\"/>"
   ]
  },
  {
   "cell_type": "markdown",
   "metadata": {
    "slideshow": {
     "slide_type": "slide"
    }
   },
   "source": [
    "## Exemplo de Marketing e Promoção"
   ]
  },
  {
   "cell_type": "code",
   "execution_count": 17,
   "metadata": {},
   "outputs": [
    {
     "data": {
      "text/html": [
       "<div>\n",
       "<style>\n",
       "    .dataframe thead tr:only-child th {\n",
       "        text-align: right;\n",
       "    }\n",
       "\n",
       "    .dataframe thead th {\n",
       "        text-align: left;\n",
       "    }\n",
       "\n",
       "    .dataframe tbody tr th {\n",
       "        vertical-align: top;\n",
       "    }\n",
       "</style>\n",
       "<table border=\"1\" class=\"dataframe\">\n",
       "  <thead>\n",
       "    <tr style=\"text-align: right;\">\n",
       "      <th></th>\n",
       "      <th>Transação</th>\n",
       "      <th>Produtos</th>\n",
       "    </tr>\n",
       "  </thead>\n",
       "  <tbody>\n",
       "    <tr>\n",
       "      <th>0</th>\n",
       "      <td>1</td>\n",
       "      <td>{Blouse}</td>\n",
       "    </tr>\n",
       "    <tr>\n",
       "      <th>2</th>\n",
       "      <td>2</td>\n",
       "      <td>{Shoes, Skirt, Shirt}</td>\n",
       "    </tr>\n",
       "    <tr>\n",
       "      <th>4</th>\n",
       "      <td>3</td>\n",
       "      <td>{Jeans, Shirt}</td>\n",
       "    </tr>\n",
       "    <tr>\n",
       "      <th>6</th>\n",
       "      <td>4</td>\n",
       "      <td>{Shoes, Jeans, Shirt}</td>\n",
       "    </tr>\n",
       "    <tr>\n",
       "      <th>8</th>\n",
       "      <td>5</td>\n",
       "      <td>{Jeans, Shorts}</td>\n",
       "    </tr>\n",
       "    <tr>\n",
       "      <th>10</th>\n",
       "      <td>6</td>\n",
       "      <td>{Shoes, Shirt}</td>\n",
       "    </tr>\n",
       "    <tr>\n",
       "      <th>12</th>\n",
       "      <td>7</td>\n",
       "      <td>{Jeans, Skirt}</td>\n",
       "    </tr>\n",
       "    <tr>\n",
       "      <th>14</th>\n",
       "      <td>8</td>\n",
       "      <td>{Shoes, Jeans, Shorts, Shirt}</td>\n",
       "    </tr>\n",
       "    <tr>\n",
       "      <th>16</th>\n",
       "      <td>9</td>\n",
       "      <td>{Jeans}</td>\n",
       "    </tr>\n",
       "    <tr>\n",
       "      <th>18</th>\n",
       "      <td>10</td>\n",
       "      <td>{Shoes, Jeans, Shirt}</td>\n",
       "    </tr>\n",
       "    <tr>\n",
       "      <th>1</th>\n",
       "      <td>11</td>\n",
       "      <td>{Shirt}</td>\n",
       "    </tr>\n",
       "    <tr>\n",
       "      <th>3</th>\n",
       "      <td>12</td>\n",
       "      <td>{Shoes, Jeans, Shirt, Blouse, Skirt}</td>\n",
       "    </tr>\n",
       "    <tr>\n",
       "      <th>5</th>\n",
       "      <td>13</td>\n",
       "      <td>{Shoes, Jeans, Shorts, Shirt}</td>\n",
       "    </tr>\n",
       "    <tr>\n",
       "      <th>7</th>\n",
       "      <td>14</td>\n",
       "      <td>{Shoes, Skirt, Shirt}</td>\n",
       "    </tr>\n",
       "    <tr>\n",
       "      <th>9</th>\n",
       "      <td>15</td>\n",
       "      <td>{Jeans, Shirt}</td>\n",
       "    </tr>\n",
       "    <tr>\n",
       "      <th>11</th>\n",
       "      <td>16</td>\n",
       "      <td>{Skirt, Shirt}</td>\n",
       "    </tr>\n",
       "    <tr>\n",
       "      <th>13</th>\n",
       "      <td>17</td>\n",
       "      <td>{Blouse, Jeans, Skirt}</td>\n",
       "    </tr>\n",
       "    <tr>\n",
       "      <th>15</th>\n",
       "      <td>18</td>\n",
       "      <td>{Shoes, Jeans, Shorts, Shirt}</td>\n",
       "    </tr>\n",
       "    <tr>\n",
       "      <th>17</th>\n",
       "      <td>19</td>\n",
       "      <td>{Jeans}</td>\n",
       "    </tr>\n",
       "    <tr>\n",
       "      <th>19</th>\n",
       "      <td>20</td>\n",
       "      <td>{Shoes, Jeans, Shorts, Shirt}</td>\n",
       "    </tr>\n",
       "  </tbody>\n",
       "</table>\n",
       "</div>"
      ],
      "text/plain": [
       "   Transação                              Produtos\n",
       "0          1                              {Blouse}\n",
       "2          2                 {Shoes, Skirt, Shirt}\n",
       "4          3                        {Jeans, Shirt}\n",
       "6          4                 {Shoes, Jeans, Shirt}\n",
       "8          5                       {Jeans, Shorts}\n",
       "10         6                        {Shoes, Shirt}\n",
       "12         7                        {Jeans, Skirt}\n",
       "14         8         {Shoes, Jeans, Shorts, Shirt}\n",
       "16         9                               {Jeans}\n",
       "18        10                 {Shoes, Jeans, Shirt}\n",
       "1         11                               {Shirt}\n",
       "3         12  {Shoes, Jeans, Shirt, Blouse, Skirt}\n",
       "5         13         {Shoes, Jeans, Shorts, Shirt}\n",
       "7         14                 {Shoes, Skirt, Shirt}\n",
       "9         15                        {Jeans, Shirt}\n",
       "11        16                        {Skirt, Shirt}\n",
       "13        17                {Blouse, Jeans, Skirt}\n",
       "15        18         {Shoes, Jeans, Shorts, Shirt}\n",
       "17        19                               {Jeans}\n",
       "19        20         {Shoes, Jeans, Shorts, Shirt}"
      ]
     },
     "execution_count": 17,
     "metadata": {},
     "output_type": "execute_result"
    }
   ],
   "source": [
    "import pandas as pd\n",
    "A = [{\"T1\": {\"Blouse\"}}, {\"T11\": {\"Shirt\"}}, {\"T2\": {\"Shoes\", \"Skirt\", \"Shirt\"}}, {\"T12\": {\"Blouse\", \"Jeans\", \"Shoes\", \"Skirt\", \"Shirt\"}}, {\"T3\": {\"Jeans\", \"Shirt\"}}, {\"T13\": {\"Jeans\", \"Shoes\", \"Shorts\", \"Shirt\"}}, {\"T4\": {\"Jeans\", \"Shoes\", \"Shirt\"}}, {\"T14\": {\"Shoes\", \"Skirt\", \"Shirt\"}}, {\"T5\": {\"Jeans\", \"Shorts\"}}, {\"T15\": {\"Jeans\", \"Shirt\"}}, {\"T6\": {\"Shoes\", \"Shirt\"}}, {\"T16\": {\"Skirt\", \"Shirt\"}}, {\"T7\": {\"Jeans\", \"Skirt\"}}, {\"T17\": {\"Blouse\", \"Jeans\", \"Skirt\"}}, {\"T8\": {\"Jeans\", \"Shoes\", \"Shorts\", \"Shirt\"}}, {\"T18\": {\"Jeans\", \"Shoes\", \"Shorts\", \"Shirt\"}}, {\"T9\": {\"Jeans\"}}, {\"T19\": {\"Jeans\"}}, {\"T10\": {\"Jeans\", \"Shoes\", \"Shirt\"}}, {\"T20\": {\"Jeans\", \"Shoes\", \"Shorts\", \"Shirt\"}}] \n",
    "Trans = [int(list(a.keys())[0][1:]) for a in A]\n",
    "Prods = [list(a.values())[0] for a in A]\n",
    "B = pd.DataFrame([Trans, Prods], [\"Transação\", \"Produtos\"]).T\n",
    "B.sort_values(\"Transação\")"
   ]
  },
  {
   "cell_type": "markdown",
   "metadata": {
    "slideshow": {
     "slide_type": "slide"
    }
   },
   "source": [
    "### Fazendo uma análise rápida, podemos verificar que:\n",
    "\n",
    "- **Quem compra `Shorts` normalmente também compra outras coisas** - Isto permite fazer uma campanha para `Shorts`, na compra de outros artigos, de modo a \"puxar a compra de outras coisas;\n",
    "\n",
    "- **Quando alguem compra `{Shirt, Shoes, Jeans}` leva *sempre* `Shorts`**  - Para que servirá??\n"
   ]
  },
  {
   "cell_type": "markdown",
   "metadata": {
    "slideshow": {
     "slide_type": "slide"
    }
   },
   "source": [
    "O próximo passo é aprendermos algumas ferrametas para mexer com dados"
   ]
  }
 ],
 "metadata": {
  "celltoolbar": "Slideshow",
  "kernelspec": {
   "display_name": "Python 3",
   "language": "python",
   "name": "python3"
  },
  "language_info": {
   "codemirror_mode": {
    "name": "ipython",
    "version": 3
   },
   "file_extension": ".py",
   "mimetype": "text/x-python",
   "name": "python",
   "nbconvert_exporter": "python",
   "pygments_lexer": "ipython3",
   "version": "3.6.0"
  }
 },
 "nbformat": 4,
 "nbformat_minor": 2
}
