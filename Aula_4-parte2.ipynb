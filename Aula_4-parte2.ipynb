{
 "cells": [
  {
   "cell_type": "markdown",
   "metadata": {
    "slideshow": {
     "slide_type": "slide"
    }
   },
   "source": [
    "# Aula 4 - parte2- Introdução ao Python para DataScientists\n",
    "\n",
    "---"
   ]
  },
  {
   "cell_type": "markdown",
   "metadata": {
    "collapsed": true,
    "slideshow": {
     "slide_type": "slide"
    }
   },
   "source": [
    "# Pandas e SkLearn\n",
    "\n",
    "A Melhor forma é usar a linguagem para resolver um problema real. \n",
    "Vamos carregar dados de um *dataset* de preços de casas na califórnia para determinarmos: \n",
    "\n",
    "---\n",
    "\n",
    "- Quantas casas existem abaixo de 200 000 Dollars \n",
    "- Quais os 2 locais onde as casas são mais baratas \n",
    "\n",
    "----\n",
    "\n",
    "- Quais os melhores negócios (casas sub valorizadas) - Classificação/Regressão\n",
    "- Quanto valeria uma casa na zona x, para 4 pessoas e com 200 $m^2$ ?  - Regressão\n",
    "\n",
    "---\n",
    "\n",
    "(Do conjunto de perguntas em cima, quais são perguntas de DataMining e quais são perguntas exploratórias (queries))\n",
    "\n",
    "<font color='forestgreen'>\n",
    "O dataset que vamos descarregar é do SkLearn, manipula-lo de forma a obter algumas análises exploratórias dos dados (pre-datamining). \n",
    "</font>\n",
    "\n",
    "### Como não estamos ainda preparados para resolver problemas de DataMining vamos focar-nos nos outros\n",
    "\n"
   ]
  },
  {
   "cell_type": "markdown",
   "metadata": {
    "slideshow": {
     "slide_type": "slide"
    }
   },
   "source": [
    "## DataSet de Casas"
   ]
  },
  {
   "cell_type": "code",
   "execution_count": null,
   "metadata": {
    "slideshow": {
     "slide_type": "-"
    }
   },
   "outputs": [],
   "source": [
    "# Start by importing the modules\n",
    "\n",
    "from sklearn import datasets\n",
    "import pandas as pd\n",
    "import numpy as np\n",
    "import matplotlib.pyplot as plt\n",
    "\n",
    "\"done\""
   ]
  },
  {
   "cell_type": "code",
   "execution_count": null,
   "metadata": {
    "collapsed": true
   },
   "outputs": [],
   "source": [
    "datasets"
   ]
  },
  {
   "cell_type": "code",
   "execution_count": null,
   "metadata": {
    "collapsed": true
   },
   "outputs": [],
   "source": [
    "#import data to variable\n",
    "\n",
    "data = datasets.california_housing.fetch_california_housing()\n",
    "#show disorganized data\n",
    "\n",
    "data\n",
    "\n",
    "#type(data)\n",
    "data.keys()"
   ]
  },
  {
   "cell_type": "code",
   "execution_count": null,
   "metadata": {
    "collapsed": true
   },
   "outputs": [],
   "source": [
    "#first, let's print a description\n",
    "print(data.DESCR)\n",
    "\n",
    "#what is this object type?\n",
    "print(type(data.DESCR))"
   ]
  },
  {
   "cell_type": "markdown",
   "metadata": {},
   "source": [
    "O que podemos concluir da descrição das features?\n",
    "\n",
    "Que são médias locais."
   ]
  },
  {
   "cell_type": "code",
   "execution_count": null,
   "metadata": {
    "collapsed": true
   },
   "outputs": [],
   "source": [
    "\n",
    "data.keys()\n",
    "\n",
    "data.feature_names"
   ]
  },
  {
   "cell_type": "code",
   "execution_count": null,
   "metadata": {
    "collapsed": true
   },
   "outputs": [],
   "source": [
    "# Qual a classe dos componentes de data?\n",
    "\n",
    "# print(type(data.target))\n",
    "# print(type(data.data))\n",
    "#\n",
    "T = data.target.reshape(-1,1)\n",
    "print(T)\n",
    "\n",
    "\n",
    "\n",
    "T.shape"
   ]
  },
  {
   "cell_type": "code",
   "execution_count": 2,
   "metadata": {},
   "outputs": [
    {
     "ename": "NameError",
     "evalue": "name 'data' is not defined",
     "output_type": "error",
     "traceback": [
      "\u001b[0;31m---------------------------------------------------------------------------\u001b[0m",
      "\u001b[0;31mNameError\u001b[0m                                 Traceback (most recent call last)",
      "\u001b[0;32m<ipython-input-2-8132712789b8>\u001b[0m in \u001b[0;36m<module>\u001b[0;34m\u001b[0m\n\u001b[0;32m----> 1\u001b[0;31m \u001b[0mF\u001b[0m \u001b[0;34m=\u001b[0m \u001b[0mdata\u001b[0m\u001b[0;34m.\u001b[0m\u001b[0mdata\u001b[0m\u001b[0;34m\u001b[0m\u001b[0m\n\u001b[0m\u001b[1;32m      2\u001b[0m \u001b[0mprint\u001b[0m\u001b[0;34m(\u001b[0m\u001b[0mF\u001b[0m\u001b[0;34m)\u001b[0m\u001b[0;34m\u001b[0m\u001b[0m\n\u001b[1;32m      3\u001b[0m \u001b[0;34m\u001b[0m\u001b[0m\n\u001b[1;32m      4\u001b[0m \u001b[0mF\u001b[0m\u001b[0;34m.\u001b[0m\u001b[0mshape\u001b[0m\u001b[0;34m\u001b[0m\u001b[0m\n",
      "\u001b[0;31mNameError\u001b[0m: name 'data' is not defined"
     ]
    }
   ],
   "source": [
    "F = data.data\n",
    "print(F)\n",
    "\n",
    "F.shape"
   ]
  },
  {
   "cell_type": "code",
   "execution_count": null,
   "metadata": {
    "collapsed": true
   },
   "outputs": [],
   "source": [
    "# ?pd.DataFrame\n",
    "dframe = pd.DataFrame(data = data.data, columns=data.feature_names)\n",
    "dframe.head()"
   ]
  },
  {
   "cell_type": "markdown",
   "metadata": {
    "slideshow": {
     "slide_type": "slide"
    }
   },
   "source": [
    "\n",
    "ou seja, obtemos algo semelhante a um \"excel\""
   ]
  },
  {
   "cell_type": "code",
   "execution_count": null,
   "metadata": {
    "collapsed": true,
    "slideshow": {
     "slide_type": "-"
    }
   },
   "outputs": [],
   "source": [
    "# Quão esparsos são estes dados:\n",
    "\n",
    "plt.figure()\n",
    "plt.title(\"Espalhamento Geográfico dos Dados\")\n",
    "plt.xlabel(\"Latitude\")\n",
    "plt.ylabel(\"Longitude\")\n",
    "plt.grid()\n",
    "plt.axis('equal')\n",
    "plt.plot(dframe.Longitude, dframe.Latitude,  '.', color=\"b\")\n",
    "plt.show()"
   ]
  },
  {
   "cell_type": "markdown",
   "metadata": {},
   "source": [
    "## Comparando com o mapa da Califórnia\n",
    "\n",
    "<img src=\"./images/calif.png\" style=\"width:60%; margin-left:0px\"/>"
   ]
  },
  {
   "cell_type": "markdown",
   "metadata": {
    "slideshow": {
     "slide_type": "slide"
    }
   },
   "source": [
    "\n",
    "### Mas faltam os dados dos preços..."
   ]
  },
  {
   "cell_type": "code",
   "execution_count": null,
   "metadata": {
    "collapsed": true
   },
   "outputs": [],
   "source": [
    "print(data.DESCR)"
   ]
  },
  {
   "cell_type": "markdown",
   "metadata": {
    "slideshow": {
     "slide_type": "slide"
    }
   },
   "source": [
    "## ah! está no \"target\":"
   ]
  },
  {
   "cell_type": "code",
   "execution_count": null,
   "metadata": {
    "collapsed": true
   },
   "outputs": [],
   "source": [
    "print(data.target)"
   ]
  },
  {
   "cell_type": "code",
   "execution_count": null,
   "metadata": {
    "collapsed": true
   },
   "outputs": [],
   "source": [
    "print(data.data.shape)\n",
    "print(data.target.shape)\n",
    "print(data.target.reshape(-1,1).shape)"
   ]
  },
  {
   "cell_type": "code",
   "execution_count": null,
   "metadata": {
    "collapsed": true
   },
   "outputs": [],
   "source": [
    "# Como os valores estão em centenas de milhares de dollars, multiplicamos por 100 000\n",
    "\n",
    "new_data =np.concatenate((data.data, data.target.reshape(-1,1)*100000), axis=1)\n",
    "\n",
    "print(data.data.shape, new_data.shape)\n",
    "\n",
    "print(type(data.feature_names))\n",
    "#para adicionar um valor a uma lista podmeos usar .append ou <list> + []. Vamos usar a segunda:\n",
    "\n",
    "names = data.feature_names + [\"Preços\"]\n",
    "print(names)"
   ]
  },
  {
   "cell_type": "code",
   "execution_count": null,
   "metadata": {
    "collapsed": true
   },
   "outputs": [],
   "source": [
    "dframe = pd.DataFrame(data=new_data, columns=names)\n",
    "\n",
    "dframe.head(10)\n"
   ]
  },
  {
   "cell_type": "markdown",
   "metadata": {
    "slideshow": {
     "slide_type": "slide"
    }
   },
   "source": [
    "# Exercícios usando a DataFrame\n",
    "\n",
    "Relembrando as perguntas de hoje:\n",
    "    \n",
    "- Quantas casas existem abaixo de 200 000 Dollars\n",
    "- Quais os 2 locais onde as casas são mais baratas\n",
    "\n"
   ]
  },
  {
   "cell_type": "code",
   "execution_count": null,
   "metadata": {
    "collapsed": true
   },
   "outputs": [],
   "source": [
    "#dframe.loc[0:1,[\"MedInc\",\"Preços\"]]\n",
    "\n",
    "#dframe.loc[[True, False]*int(dframe.shape[0]/2.0) ,[\"MedInc\",\"Preços\"]]\n",
    "\n",
    "dframe.loc[round(dframe.MedInc)==8 ,[\"MedInc\",\"Preços\"]][0:10]\n",
    "\n",
    "\n",
    "#[dframe.columns[1],dframe.columns[-1]]\n",
    "\n",
    "# S[:10]"
   ]
  },
  {
   "cell_type": "code",
   "execution_count": null,
   "metadata": {
    "collapsed": true
   },
   "outputs": [],
   "source": [
    "#pegando na nossa dframe...\n",
    "\n",
    "small_price_data = dframe.loc[S, [dframe.columns[1],dframe.columns[-1]]]\n",
    "\n",
    "small_price_data.head()"
   ]
  },
  {
   "cell_type": "code",
   "execution_count": null,
   "metadata": {
    "collapsed": true
   },
   "outputs": [],
   "source": [
    "# dframe[\"Preços\"]<200000\n",
    "\n",
    "houses_below = dframe.loc[dframe[\"Preços\"]<200000,:]\n",
    "houses_below[:4]"
   ]
  },
  {
   "cell_type": "code",
   "execution_count": null,
   "metadata": {
    "collapsed": true
   },
   "outputs": [],
   "source": [
    "B = dframe.iloc[:9,[0,-1]]\n",
    "B"
   ]
  },
  {
   "cell_type": "code",
   "execution_count": null,
   "metadata": {
    "collapsed": true
   },
   "outputs": [],
   "source": [
    "# indexes = [i for i,j in enumerate(dframe[\"preços\"]) if j>200000]\n",
    "\n",
    "# small_price_data = dframe.iloc[indexes, 1::2]\n",
    "# small_price_data"
   ]
  },
  {
   "cell_type": "markdown",
   "metadata": {},
   "source": [
    "### Quantas casas existem abaixo de 200 000 Dollars ?"
   ]
  },
  {
   "cell_type": "code",
   "execution_count": null,
   "metadata": {
    "collapsed": true
   },
   "outputs": [],
   "source": [
    "houses_below.iloc[:,-1].mean()\n",
    "#houses_below.count()"
   ]
  },
  {
   "cell_type": "markdown",
   "metadata": {},
   "source": [
    "### Quais os 2 locais onde as casas são mais baratas?"
   ]
  },
  {
   "cell_type": "code",
   "execution_count": null,
   "metadata": {
    "collapsed": true
   },
   "outputs": [],
   "source": [
    "# dframe\n",
    "dframe.sort_values(\"Preços\").iloc[0:2,:]\n"
   ]
  },
  {
   "cell_type": "markdown",
   "metadata": {
    "slideshow": {
     "slide_type": "-"
    }
   },
   "source": [
    "### Falta-nos ainda perceber para que servem os indíces....\n",
    "\n",
    "# Mais informação para melhorar a aula da hoje (e fazer os TPCs):\n",
    "    \n",
    "- python: http://docs.python-guide.org/en/latest/\n",
    "- numpy: https://docs.scipy.org/doc/numpy-dev/user/quickstart.html\n",
    "- pandas: https://pandas.pydata.org/pandas-docs/stable/10min.html"
   ]
  },
  {
   "cell_type": "markdown",
   "metadata": {},
   "source": [
    "## Trabalho de Casa 1\n",
    "---\n",
    "\n",
    "1. Usando os mesmos dados, retornar onde (Latitude e Longitude) se encontra a casa mais cara; \n",
    "1. Retornar um gráfico com esse ponto a vermelho no meio dos outros pontos a azul;\n",
    "1. Carregar os dados do dataset de **digits** e imprimir (plot) o primeiro caracter da lista; \n",
    "```\n",
    "datasets.load_digits()\n",
    "```"
   ]
  }
 ],
 "metadata": {
  "celltoolbar": "Slideshow",
  "kernelspec": {
   "display_name": "Python 3",
   "language": "python",
   "name": "python3"
  }
 },
 "nbformat": 4,
 "nbformat_minor": 2
}
