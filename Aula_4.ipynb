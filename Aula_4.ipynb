{
 "cells": [
  {
   "cell_type": "markdown",
   "metadata": {
    "colab_type": "text",
    "id": "26Ru3biIzC4I",
    "slideshow": {
     "slide_type": "slide"
    }
   },
   "source": [
    "# Aula 4 - Introdução ao Python para Data Scientists\n",
    "\n",
    "---"
   ]
  },
  {
   "cell_type": "markdown",
   "metadata": {
    "colab_type": "text",
    "collapsed": true,
    "id": "YJb4DtIczC4K",
    "slideshow": {
     "slide_type": "slide"
    }
   },
   "source": [
    "Nesta aula vamos fazer alguns exercícios de Python e aprender a trabalhar com três módulos:\n",
    "- **Numpy** - módulo de python para cálculos numéricos e matriciais.\n",
    "- **Pandas** - móduo de python para executar agregações, filtragens manipulação de dados sequenciais ou tabulares (semelhante ao executado pelas queries em SQL)\n",
    "- **Sklearn** - módulo de machine learning/Data mining\n"
   ]
  },
  {
   "cell_type": "markdown",
   "metadata": {
    "colab_type": "text",
    "id": "PbeVvwMdzC4M",
    "slideshow": {
     "slide_type": "slide"
    }
   },
   "source": [
    "## Exemplos básicos do uso de python\n"
   ]
  },
  {
   "cell_type": "code",
   "execution_count": 1,
   "metadata": {
    "colab": {
     "base_uri": "https://localhost:8080/",
     "height": 35
    },
    "colab_type": "code",
    "executionInfo": {
     "elapsed": 571,
     "status": "ok",
     "timestamp": 1539598029055,
     "user": {
      "displayName": "Nuno Bras",
      "photoUrl": "",
      "userId": "02118661243747592775"
     },
     "user_tz": -60
    },
    "id": "2JrVjrn-zC4M",
    "outputId": "db54d660-db34-4045-c3c9-035f2957be1f"
   },
   "outputs": [
    {
     "data": {
      "text/plain": [
       "12"
      ]
     },
     "execution_count": 1,
     "metadata": {},
     "output_type": "execute_result"
    }
   ],
   "source": [
    "# Hello World\n",
    "\n",
    "a = 12\n",
    "a"
   ]
  },
  {
   "cell_type": "markdown",
   "metadata": {
    "colab_type": "text",
    "id": "pyJyB8_dMlFo"
   },
   "source": [
    "*Here is a simple comment showing a print example*\n",
    " \n"
   ]
  },
  {
   "cell_type": "code",
   "execution_count": 2,
   "metadata": {
    "colab": {
     "base_uri": "https://localhost:8080/",
     "height": 52
    },
    "colab_type": "code",
    "executionInfo": {
     "elapsed": 1002,
     "status": "ok",
     "timestamp": 1539598032457,
     "user": {
      "displayName": "Nuno Bras",
      "photoUrl": "",
      "userId": "02118661243747592775"
     },
     "user_tz": -60
    },
    "id": "06Ch1rkdzC4T",
    "outputId": "1cd2067f-1a6a-401f-ffc0-b1940f05d1e4",
    "scrolled": true
   },
   "outputs": [
    {
     "name": "stdout",
     "output_type": "stream",
     "text": [
      "24\n"
     ]
    },
    {
     "data": {
      "text/plain": [
       "24"
      ]
     },
     "execution_count": 2,
     "metadata": {},
     "output_type": "execute_result"
    }
   ],
   "source": [
    "# simple print\n",
    "\n",
    "a = a+12\n",
    "print(a)\n",
    "a"
   ]
  },
  {
   "cell_type": "code",
   "execution_count": 3,
   "metadata": {
    "colab": {
     "base_uri": "https://localhost:8080/",
     "height": 35
    },
    "colab_type": "code",
    "executionInfo": {
     "elapsed": 558,
     "status": "ok",
     "timestamp": 1539598213052,
     "user": {
      "displayName": "Nuno Bras",
      "photoUrl": "",
      "userId": "02118661243747592775"
     },
     "user_tz": -60
    },
    "id": "OiYnnqCvzC4Y",
    "outputId": "62028b52-ac7b-4611-c6ba-6568ca39d291"
   },
   "outputs": [
    {
     "data": {
      "text/plain": [
       "4"
      ]
     },
     "execution_count": 3,
     "metadata": {},
     "output_type": "execute_result"
    }
   ],
   "source": [
    "#Criar uma lista (array)\n",
    "A = [1,2,3,4,5]\n",
    "A[3]"
   ]
  },
  {
   "cell_type": "code",
   "execution_count": 4,
   "metadata": {
    "colab": {
     "base_uri": "https://localhost:8080/",
     "height": 191
    },
    "colab_type": "code",
    "executionInfo": {
     "elapsed": 683,
     "status": "ok",
     "timestamp": 1539598514102,
     "user": {
      "displayName": "Nuno Bras",
      "photoUrl": "",
      "userId": "02118661243747592775"
     },
     "user_tz": -60
    },
    "id": "E2apNNbczC4d",
    "outputId": "a78393e3-b585-43b7-8032-94d6ccaab390"
   },
   "outputs": [
    {
     "name": "stdout",
     "output_type": "stream",
     "text": [
      "10\n",
      "[5.283106447688181]\n"
     ]
    },
    {
     "data": {
      "text/plain": [
       "[0.8082161387773343,\n",
       " 0.4971665493123595,\n",
       " 0.23743804649079114,\n",
       " 0.15820416990097907,\n",
       " 0.4099776105469518,\n",
       " 0.9524606170647547,\n",
       " 0.9036264084698806,\n",
       " 0.4404538350080044,\n",
       " 0.4117378978532906,\n",
       " 0.25595810486494]"
      ]
     },
     "execution_count": 4,
     "metadata": {},
     "output_type": "execute_result"
    }
   ],
   "source": [
    "'''\n",
    "Random Functions\n",
    "'''\n",
    "import random\n",
    "\n",
    "# gerar arrays\n",
    "a = [10]*10\n",
    "a\n",
    "\n",
    "# Gerar arrays de numeros aleatórios... pode nao ser tão simples. \n",
    "# Vejam as diferenças:\n",
    "\n",
    "b = [random.random()]*10\n",
    "b\n",
    "c = [random.random()*10]\n",
    "c\n",
    "print (len(b))\n",
    "print (c)\n",
    "\n",
    "# gerar um array aleatório\n",
    "d = [random.random() for i in range(10)]\n",
    "d\n"
   ]
  },
  {
   "cell_type": "code",
   "execution_count": 5,
   "metadata": {
    "colab": {
     "base_uri": "https://localhost:8080/",
     "height": 35
    },
    "colab_type": "code",
    "executionInfo": {
     "elapsed": 665,
     "status": "ok",
     "timestamp": 1539598807849,
     "user": {
      "displayName": "Nuno Bras",
      "photoUrl": "",
      "userId": "02118661243747592775"
     },
     "user_tz": -60
    },
    "id": "41o1GbxuzC4h",
    "outputId": "51a8728f-0a13-412f-95e6-9ff14d08770e",
    "slideshow": {
     "slide_type": "-"
    }
   },
   "outputs": [
    {
     "name": "stdout",
     "output_type": "stream",
     "text": [
      "[0, 1, 4, 9, 16, 25, 36, 49, 64, 81]\n",
      "[0, 1, 4, 9, 16, 25, 36, 49, 64, 81]\n"
     ]
    }
   ],
   "source": [
    "# o que usámos chama-se \"list comprehensions\"\n",
    "# O seguinte código: \n",
    "\n",
    "a = [i**2 for i in range(0,10)]\n",
    "a\n",
    "# É igual a:\n",
    "\n",
    "b = []\n",
    "for i in range(0,10):\n",
    "    b = b + [i**2]\n",
    "\n",
    "b\n",
    "\n",
    "print(a)\n",
    "print(b)"
   ]
  },
  {
   "cell_type": "code",
   "execution_count": 6,
   "metadata": {
    "colab": {
     "base_uri": "https://localhost:8080/",
     "height": 35
    },
    "colab_type": "code",
    "executionInfo": {
     "elapsed": 751,
     "status": "ok",
     "timestamp": 1539599402369,
     "user": {
      "displayName": "Nuno Bras",
      "photoUrl": "",
      "userId": "02118661243747592775"
     },
     "user_tz": -60
    },
    "id": "gn0DiYeXzC4l",
    "outputId": "249d2bd6-e490-4766-b27f-aa1d1dc7ebba",
    "slideshow": {
     "slide_type": "slide"
    }
   },
   "outputs": [
    {
     "name": "stdout",
     "output_type": "stream",
     "text": [
      "[1, 4, 9, 16, 25, 36, 49, 64, 81]\n",
      "[16, 25]\n",
      "[16, 25]\n",
      "[4, 16, 36]\n",
      "[81, 64, 49, 36, 25, 16, 9, 4, 1, 0]\n",
      "[25, 16, 9, 4, 1]\n"
     ]
    }
   ],
   "source": [
    "# slice de arrays\n",
    "print(a[1:])\n",
    "print(a[4:6])\n",
    "print(a[4:6])\n",
    "print(a[2:-2:2])\n",
    "print(a[-1::-1])\n",
    "print(a[5:0:-1])\n",
    "\n"
   ]
  },
  {
   "cell_type": "code",
   "execution_count": 7,
   "metadata": {
    "colab": {
     "base_uri": "https://localhost:8080/",
     "height": 35
    },
    "colab_type": "code",
    "executionInfo": {
     "elapsed": 595,
     "status": "ok",
     "timestamp": 1539599610000,
     "user": {
      "displayName": "Nuno Bras",
      "photoUrl": "",
      "userId": "02118661243747592775"
     },
     "user_tz": -60
    },
    "id": "uH9RZo1ZzC4z",
    "outputId": "e918f857-6668-4ab1-fdb0-37660e67c86d"
   },
   "outputs": [
    {
     "data": {
      "text/plain": [
       "[0, 8, 24, 48, 80]"
      ]
     },
     "execution_count": 7,
     "metadata": {},
     "output_type": "execute_result"
    }
   ],
   "source": [
    "# filtered comprehensive lists \n",
    "N = [0, 1, 4, 9, 16, 25, 36, 49, 64, 81]\n",
    "[n-1 for n in N if n%2==1]"
   ]
  },
  {
   "cell_type": "code",
   "execution_count": 8,
   "metadata": {
    "colab": {
     "base_uri": "https://localhost:8080/",
     "height": 35
    },
    "colab_type": "code",
    "executionInfo": {
     "elapsed": 1210,
     "status": "ok",
     "timestamp": 1539599787977,
     "user": {
      "displayName": "Nuno Bras",
      "photoUrl": "",
      "userId": "02118661243747592775"
     },
     "user_tz": -60
    },
    "id": "E1L4lZ2zzC4p",
    "outputId": "b427a30d-b3ee-43d2-b266-5ad45c8e3e27"
   },
   "outputs": [
    {
     "data": {
      "text/plain": [
       "[9, 16, 25]"
      ]
     },
     "execution_count": 8,
     "metadata": {},
     "output_type": "execute_result"
    }
   ],
   "source": [
    "#criar uma função\n",
    "def teste(N):\n",
    "  X = []\n",
    "  for n in N:\n",
    "      X.append(n**2)\n",
    "  return X\n",
    "\n",
    "#chamar a função\n",
    "teste([3,4,5])"
   ]
  },
  {
   "cell_type": "code",
   "execution_count": null,
   "metadata": {
    "colab": {},
    "colab_type": "code",
    "id": "ieBbaISgzC45"
   },
   "outputs": [],
   "source": []
  },
  {
   "cell_type": "code",
   "execution_count": 9,
   "metadata": {
    "colab": {
     "base_uri": "https://localhost:8080/",
     "height": 87
    },
    "colab_type": "code",
    "executionInfo": {
     "elapsed": 808,
     "status": "ok",
     "timestamp": 1539600026955,
     "user": {
      "displayName": "Nuno Bras",
      "photoUrl": "",
      "userId": "02118661243747592775"
     },
     "user_tz": -60
    },
    "id": "2fXb1VjYzC5C",
    "outputId": "1b81af0a-78a5-4ed4-f16b-aac44847f314"
   },
   "outputs": [
    {
     "name": "stdout",
     "output_type": "stream",
     "text": [
      "dict_keys(['foo', 'bar'])\n",
      "dict_values([123, {'nn': 1235}])\n",
      "dict_items([('foo', 123), ('bar', {'nn': 1235})])\n"
     ]
    },
    {
     "data": {
      "text/plain": [
       "1235"
      ]
     },
     "execution_count": 9,
     "metadata": {},
     "output_type": "execute_result"
    }
   ],
   "source": [
    "#Criar um dicionário\n",
    "\n",
    "A = {\"foo\":123,\"bar\":{\"nn\":1235}}\n",
    "print(A.keys())\n",
    "print(A.values())\n",
    "print(A.items())\n",
    "A['bar']['nn']"
   ]
  },
  {
   "cell_type": "code",
   "execution_count": 10,
   "metadata": {
    "colab": {
     "base_uri": "https://localhost:8080/",
     "height": 35
    },
    "colab_type": "code",
    "executionInfo": {
     "elapsed": 1550,
     "status": "ok",
     "timestamp": 1539600081407,
     "user": {
      "displayName": "Nuno Bras",
      "photoUrl": "",
      "userId": "02118661243747592775"
     },
     "user_tz": -60
    },
    "id": "rXEgJ7PBzC5H",
    "outputId": "b0eea47c-818b-453b-f6f5-a959d394d231"
   },
   "outputs": [
    {
     "data": {
      "text/plain": [
       "3"
      ]
     },
     "execution_count": 10,
     "metadata": {},
     "output_type": "execute_result"
    }
   ],
   "source": [
    "# arrays dentro de arrays....\n",
    "a = [[1,2,3],[4,5,6]]\n",
    "\n",
    "# a[0,2] não funciona\n",
    "\n",
    "a[0][2]\n",
    "\n",
    "# haverá uma forma mais fácil e eficiente de criar/manusear matrizes?"
   ]
  },
  {
   "cell_type": "code",
   "execution_count": 11,
   "metadata": {
    "colab": {
     "base_uri": "https://localhost:8080/",
     "height": 87
    },
    "colab_type": "code",
    "executionInfo": {
     "elapsed": 560,
     "status": "ok",
     "timestamp": 1539594516898,
     "user": {
      "displayName": "Nuno Bras",
      "photoUrl": "",
      "userId": "02118661243747592775"
     },
     "user_tz": -60
    },
    "id": "72RBe7SfzC5L",
    "outputId": "0d605d2c-ca4e-46a0-c3c0-18e008e12d13",
    "slideshow": {
     "slide_type": "slide"
    }
   },
   "outputs": [
    {
     "ename": "ModuleNotFoundError",
     "evalue": "No module named 'numpy'",
     "output_type": "error",
     "traceback": [
      "\u001b[0;31m---------------------------------------------------------------------------\u001b[0m",
      "\u001b[0;31mModuleNotFoundError\u001b[0m                       Traceback (most recent call last)",
      "\u001b[0;32m<ipython-input-11-5d3bd84f31e6>\u001b[0m in \u001b[0;36m<module>\u001b[0;34m\u001b[0m\n\u001b[1;32m      1\u001b[0m \u001b[0;31m# Numpy\u001b[0m\u001b[0;34m\u001b[0m\u001b[0;34m\u001b[0m\u001b[0m\n\u001b[1;32m      2\u001b[0m \u001b[0;34m\u001b[0m\u001b[0m\n\u001b[0;32m----> 3\u001b[0;31m \u001b[0;32mimport\u001b[0m \u001b[0mnumpy\u001b[0m \u001b[0;32mas\u001b[0m \u001b[0mnp\u001b[0m\u001b[0;34m\u001b[0m\u001b[0m\n\u001b[0m\u001b[1;32m      4\u001b[0m \u001b[0;34m\u001b[0m\u001b[0m\n\u001b[1;32m      5\u001b[0m \u001b[0mX\u001b[0m \u001b[0;34m=\u001b[0m \u001b[0mnp\u001b[0m\u001b[0;34m.\u001b[0m\u001b[0marray\u001b[0m\u001b[0;34m(\u001b[0m\u001b[0;34m[\u001b[0m\u001b[0;34m[\u001b[0m\u001b[0;36m1\u001b[0m\u001b[0;34m,\u001b[0m\u001b[0;36m2\u001b[0m\u001b[0;34m,\u001b[0m\u001b[0;36m3\u001b[0m\u001b[0;34m]\u001b[0m\u001b[0;34m,\u001b[0m\u001b[0;34m[\u001b[0m\u001b[0;36m4\u001b[0m\u001b[0;34m,\u001b[0m\u001b[0;36m5\u001b[0m\u001b[0;34m,\u001b[0m\u001b[0;36m6\u001b[0m\u001b[0;34m]\u001b[0m\u001b[0;34m]\u001b[0m\u001b[0;34m)\u001b[0m\u001b[0;34m\u001b[0m\u001b[0m\n",
      "\u001b[0;31mModuleNotFoundError\u001b[0m: No module named 'numpy'"
     ]
    }
   ],
   "source": [
    "# Numpy\n",
    "\n",
    "import numpy as np\n",
    "\n",
    "X = np.array([[1,2,3],[4,5,6]])\n",
    "Y = np.array([[1,2,2]])\n",
    "Z = np.array([[1],[2],[3]])\n",
    "\n",
    "print(X.shape)\n",
    "print(Y.shape)\n",
    "print(Z.shape)\n",
    "\n",
    "\n",
    "#matriz transposta\n",
    "Z.T"
   ]
  },
  {
   "cell_type": "code",
   "execution_count": null,
   "metadata": {
    "colab": {
     "base_uri": "https://localhost:8080/",
     "height": 173
    },
    "colab_type": "code",
    "executionInfo": {
     "elapsed": 543,
     "status": "ok",
     "timestamp": 1539594519183,
     "user": {
      "displayName": "Nuno Bras",
      "photoUrl": "",
      "userId": "02118661243747592775"
     },
     "user_tz": -60
    },
    "id": "IXiCjaY0zC5Q",
    "outputId": "e0c1df70-ec2d-438a-ad16-29f6813a9b64",
    "slideshow": {
     "slide_type": "slide"
    }
   },
   "outputs": [],
   "source": [
    "#gerar matrizes e arrays random\n",
    "\n",
    "A = np.random.random([4,2])\n",
    "\n",
    "x = np.array([10,0])\n",
    "\n",
    "y = A*x\n",
    "\n",
    "print(A)\n",
    "print(x)\n",
    "print(y)"
   ]
  },
  {
   "cell_type": "code",
   "execution_count": null,
   "metadata": {
    "colab": {
     "base_uri": "https://localhost:8080/",
     "height": 87
    },
    "colab_type": "code",
    "executionInfo": {
     "elapsed": 541,
     "status": "ok",
     "timestamp": 1539594522088,
     "user": {
      "displayName": "Nuno Bras",
      "photoUrl": "",
      "userId": "02118661243747592775"
     },
     "user_tz": -60
    },
    "id": "DvEqOsb8zC5X",
    "outputId": "0d0e79db-91e4-4008-c1f5-25c61afab7b4"
   },
   "outputs": [],
   "source": [
    "# A criação de matrizes pode ser tão complexa quanto se queira:\n",
    "\n",
    "B = np.array([np.ones([4]), np.ones([4])+1, np.ones([4])+2, np.ones([4])+3]).T\n",
    "B\n"
   ]
  },
  {
   "cell_type": "code",
   "execution_count": null,
   "metadata": {
    "colab": {
     "base_uri": "https://localhost:8080/",
     "height": 191
    },
    "colab_type": "code",
    "executionInfo": {
     "elapsed": 754,
     "status": "ok",
     "timestamp": 1539600483556,
     "user": {
      "displayName": "Nuno Bras",
      "photoUrl": "",
      "userId": "02118661243747592775"
     },
     "user_tz": -60
    },
    "id": "1bJ-YD91zC5c",
    "outputId": "57dbcf03-2ba9-4638-e43f-7fa8e0268d94"
   },
   "outputs": [],
   "source": [
    "# multiplicação de arrays pode não ser intuitiva (broadcast!)\n",
    "\n",
    "x = (np.array([n for n in range(10)])*100).reshape([-1,1])\n",
    "\n",
    "print(x)\n",
    "\n",
    "B = np.random.random([10,3])\n",
    "\n",
    "print(B)\n",
    "\n",
    "B*x\n"
   ]
  },
  {
   "cell_type": "code",
   "execution_count": null,
   "metadata": {
    "colab": {
     "base_uri": "https://localhost:8080/",
     "height": 69
    },
    "colab_type": "code",
    "executionInfo": {
     "elapsed": 584,
     "status": "ok",
     "timestamp": 1539594630936,
     "user": {
      "displayName": "Nuno Bras",
      "photoUrl": "",
      "userId": "02118661243747592775"
     },
     "user_tz": -60
    },
    "id": "Ih43dCPT-7c6",
    "outputId": "9c4ce7a0-f7e9-4c8f-fee0-027fa009d52d"
   },
   "outputs": [],
   "source": [
    "# reshape\n",
    "\n",
    "print(np.array([range(10)]).reshape(2,5))\n",
    "print(np.array([range(5)]).reshape(-1,5))\n",
    "\n"
   ]
  },
  {
   "cell_type": "code",
   "execution_count": null,
   "metadata": {
    "colab": {
     "base_uri": "https://localhost:8080/",
     "height": 139
    },
    "colab_type": "code",
    "executionInfo": {
     "elapsed": 672,
     "status": "ok",
     "timestamp": 1539600647612,
     "user": {
      "displayName": "Nuno Bras",
      "photoUrl": "",
      "userId": "02118661243747592775"
     },
     "user_tz": -60
    },
    "id": "usJhNRnnzC5v",
    "outputId": "a13a390c-9bf4-40db-ac80-52f57c5ea74d",
    "slideshow": {
     "slide_type": "slide"
    }
   },
   "outputs": [],
   "source": [
    "#exemplos de broadcast\n",
    "\n",
    "X = np.array([range(10)]).reshape(2,5)\n",
    "Y = np.array([10]*5).reshape(-1,5)\n",
    "\n",
    "\n",
    "print(X)\n",
    "print(\"----\")\n",
    "print(Y)\n",
    "print(\"----\")\n",
    "\n",
    "F = X*10\n",
    "print(\"F:\", F)\n",
    "print(\"----\")\n",
    "\n",
    "Z = X*Y\n",
    "\n",
    "print(X.shape)\n",
    "print(Y.shape)\n",
    "\n",
    "print(X)\n",
    "print(Y)\n",
    "\n",
    "print(\"Z:\", Z)"
   ]
  },
  {
   "cell_type": "code",
   "execution_count": null,
   "metadata": {
    "colab": {},
    "colab_type": "code",
    "id": "sIA0y2o0zC5y",
    "slideshow": {
     "slide_type": "slide"
    }
   },
   "outputs": [],
   "source": [
    "A = np.array([[1,2,3,4,5,6],[1,1,1,1,1,1]])\n",
    "B = np.array([[3],[4]])\n",
    "\n",
    "A*B              "
   ]
  },
  {
   "cell_type": "code",
   "execution_count": null,
   "metadata": {
    "colab": {
     "base_uri": "https://localhost:8080/",
     "height": 156
    },
    "colab_type": "code",
    "executionInfo": {
     "elapsed": 744,
     "status": "ok",
     "timestamp": 1539594883730,
     "user": {
      "displayName": "Nuno Bras",
      "photoUrl": "",
      "userId": "02118661243747592775"
     },
     "user_tz": -60
    },
    "id": "HU2zGCwnzC53",
    "outputId": "67cb6aae-afde-42a3-f88a-2d57dee158ae"
   },
   "outputs": [],
   "source": [
    "#exemplo de broadcast 2\n",
    "Y = np.array([[10], [100]])\n",
    "print(X)\n",
    "print(Y)\n",
    "\n",
    "Z = X*Y\n",
    "print(X.shape)\n",
    "print(Y.shape)\n",
    "\n",
    "Z"
   ]
  },
  {
   "cell_type": "code",
   "execution_count": null,
   "metadata": {
    "colab": {
     "base_uri": "https://localhost:8080/",
     "height": 121
    },
    "colab_type": "code",
    "executionInfo": {
     "elapsed": 567,
     "status": "ok",
     "timestamp": 1539594912049,
     "user": {
      "displayName": "Nuno Bras",
      "photoUrl": "",
      "userId": "02118661243747592775"
     },
     "user_tz": -60
    },
    "id": "1w89gJnFzC55",
    "outputId": "e373017b-359e-4f95-892d-ccbe19cc0f3a",
    "slideshow": {
     "slide_type": "slide"
    }
   },
   "outputs": [],
   "source": [
    "#arredondar valores\n",
    "\n",
    "A = np.round(np.random.random([6,3])*4)\n",
    "A"
   ]
  },
  {
   "cell_type": "code",
   "execution_count": null,
   "metadata": {
    "colab": {
     "base_uri": "https://localhost:8080/",
     "height": 35
    },
    "colab_type": "code",
    "executionInfo": {
     "elapsed": 579,
     "status": "ok",
     "timestamp": 1539594937304,
     "user": {
      "displayName": "Nuno Bras",
      "photoUrl": "",
      "userId": "02118661243747592775"
     },
     "user_tz": -60
    },
    "id": "-DFix3L0zC59",
    "outputId": "04ca1531-966a-4dc9-ed8a-7872ac32195b"
   },
   "outputs": [],
   "source": [
    "b = np.array([[1,1,1]])\n",
    "b"
   ]
  },
  {
   "cell_type": "code",
   "execution_count": null,
   "metadata": {
    "colab": {
     "base_uri": "https://localhost:8080/",
     "height": 243
    },
    "colab_type": "code",
    "executionInfo": {
     "elapsed": 572,
     "status": "ok",
     "timestamp": 1539595410338,
     "user": {
      "displayName": "Nuno Bras",
      "photoUrl": "",
      "userId": "02118661243747592775"
     },
     "user_tz": -60
    },
    "id": "pr4EkYPczC5_",
    "outputId": "85d1cd65-3a6e-43b6-e303-acccce3ffeb5"
   },
   "outputs": [],
   "source": [
    "# Multiplicação de Matrizes\n",
    "\n",
    "print(A)\n",
    "print(b)\n",
    "np.matmul(A,b.T)"
   ]
  },
  {
   "cell_type": "markdown",
   "metadata": {
    "colab_type": "text",
    "id": "dH-FMvvxzC6E"
   },
   "source": [
    "# TPC 0 (entrega na próxima aula - 20 min MAX)\n",
    "\n",
    "### Dominar a linguagem Python\n",
    "#### ENTREGA 22/10/2018\n",
    "\n",
    "----\n",
    "\n",
    "Uma string S composta de N caracteres é considerada como correta se qualquer uma das seguintes condições for verdadeira:\n",
    "\n",
    "- S for vazia;\n",
    "- S tem a forma \"(U)\" ou \"[U]\" ou \"{U}\" onde U é também uma string correta;\n",
    "- S tem a forma \"VW\" onde V e W são strings corretas.\n",
    "\n",
    "\n",
    "Por exemplo, a string \"{[() ()]}\" é considerada correta, mas \"([) ()]\" não é.\n",
    "\n",
    "Escreva uma função:\n",
    "\n",
    "```def solution(S)```\n",
    "\n",
    "que, dada uma sequência S com N caracteres, retorna 1 se S estiver correta e 0 caso contrário.\n",
    "\n",
    "Por exemplo, dado S = \"{[() ()]}\", a função deve retornar 1 e dado S = \"([) ()]\", a função deve retornar 0, como explicado acima.\n",
    "\n",
    "Assuma que:\n",
    "\n",
    "- N é um número inteiro dentro do intervalo [0..200,000];\n",
    "- A string S consiste apenas nos seguintes caracteres: \"(\", \"{\", \"[\", \"]\", \"}\" e / ou \")\".\n",
    "\n",
    "\n"
   ]
  },
  {
   "cell_type": "code",
   "execution_count": null,
   "metadata": {
    "colab": {},
    "colab_type": "code",
    "id": "tl4w710azC6E",
    "slideshow": {
     "slide_type": "slide"
    }
   },
   "outputs": [],
   "source": []
  }
 ],
 "metadata": {
  "colab": {
   "collapsed_sections": [],
   "name": "Aula_4.ipynb",
   "provenance": [
    {
     "file_id": "1mG4zQfuBIE6zd1kZm6HUGY06nprih5hN",
     "timestamp": 1539594334729
    }
   ],
   "version": "0.3.2"
  },
  "kernelspec": {
   "display_name": "Python 3",
   "language": "python",
   "name": "python3"
  },
  "language_info": {
   "codemirror_mode": {
    "name": "ipython",
    "version": 3
   },
   "file_extension": ".py",
   "mimetype": "text/x-python",
   "name": "python",
   "nbconvert_exporter": "python",
   "pygments_lexer": "ipython3",
   "version": "3.6.0"
  }
 },
 "nbformat": 4,
 "nbformat_minor": 1
}
