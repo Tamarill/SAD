{
 "cells": [
  {
   "cell_type": "markdown",
   "metadata": {},
   "source": [
    "# SAD - TPC 3\n",
    "\n",
    "### Treinando Pandas\n",
    "\n",
    "----\n",
    "\n",
    "## TPC 3\n",
    "---\n",
    "\n",
    "1. Usando os dados de casas do SkLearn dados nas aulas:`datasets.california_housing.fetch_california_housing()` retornar onde (Latitude e Longitude) se encontram as casas mais cara e a casa mais barata; \n",
    "\n",
    "1. Retornar um gráfico com esse ponto a vermelho no meio dos outros pontos a azul;\n",
    "\n",
    "1. Do mesmo módulo SkLearn, carregar os dados do dataset de **digits** e imprimir (plot) o primeiro caracter da lista usando para carregar os dados\n",
    "`\n",
    "datasets.load_digits()\n",
    "`;"
   ]
  }
 ],
 "metadata": {
  "kernelspec": {
   "display_name": "Python 3",
   "language": "python",
   "name": "python3"
  },
  "language_info": {
   "codemirror_mode": {
    "name": "ipython",
    "version": 3
   },
   "file_extension": ".py",
   "mimetype": "text/x-python",
   "name": "python",
   "nbconvert_exporter": "python",
   "pygments_lexer": "ipython3",
   "version": "3.6.0"
  }
 },
 "nbformat": 4,
 "nbformat_minor": 2
}
